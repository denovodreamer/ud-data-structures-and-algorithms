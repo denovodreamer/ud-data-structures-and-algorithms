{
 "cells": [
  {
   "cell_type": "markdown",
   "id": "23c1698a",
   "metadata": {},
   "source": [
    " "
   ]
  },
  {
   "cell_type": "markdown",
   "id": "f54e0ee5",
   "metadata": {},
   "source": [
    " "
   ]
  },
  {
   "cell_type": "markdown",
   "id": "2a87a9a1",
   "metadata": {},
   "source": [
    " "
   ]
  },
  {
   "cell_type": "markdown",
   "id": "fa00e486",
   "metadata": {},
   "source": [
    " "
   ]
  },
  {
   "cell_type": "markdown",
   "id": "69a3a2dd",
   "metadata": {},
   "source": [
    " "
   ]
  },
  {
   "cell_type": "markdown",
   "id": "e28c8a80",
   "metadata": {},
   "source": [
    " "
   ]
  },
  {
   "cell_type": "markdown",
   "id": "868ab473",
   "metadata": {},
   "source": [
    "# Geek for geeks"
   ]
  },
  {
   "cell_type": "markdown",
   "id": "8e62c4f1",
   "metadata": {},
   "source": [
    " "
   ]
  },
  {
   "cell_type": "markdown",
   "id": "5c67c599-9c2b-4d28-8d6e-23c1d3119f6f",
   "metadata": {},
   "source": [
    "https://www.geeksforgeeks.org/union-and-intersection-of-two-linked-list-using-hashing/"
   ]
  },
  {
   "cell_type": "markdown",
   "id": "22da2621-1e15-4ff0-be76-ca38ffe28fc6",
   "metadata": {},
   "source": [
    " "
   ]
  },
  {
   "cell_type": "markdown",
   "id": "ad2070f2-8616-460b-970b-8b130eafecb7",
   "metadata": {},
   "source": [
    " "
   ]
  },
  {
   "cell_type": "code",
   "execution_count": null,
   "id": "7d5de2c7-3a2d-485d-862f-ffeede797a79",
   "metadata": {},
   "outputs": [],
   "source": [
    "# Python code for finding union and intersection of linkedList \n",
    "\n",
    "\n",
    "class linkedList: \n",
    "\tdef __init__(self): \n",
    "\t\tself.head = None\n",
    "\t\tself.tail = None\n",
    "\n",
    "\tdef insert(self, data): \n",
    "\t\tif self.head is None: \n",
    "\t\t\tself.head = Node(data) \n",
    "\t\t\tself.tail = self.head \n",
    "\t\telse: \n",
    "\t\t\tself.tail.next = Node(data) \n",
    "\t\t\tself.tail = self.tail.next\n",
    "\n",
    "\n",
    "class Node: \n",
    "\tdef __init__(self, data): \n",
    "\t\tself.data = data \n",
    "\t\tself.next = None\n",
    "\n",
    "# return the head of new list containing the intersection of 2 linkedList \n",
    "\n",
    "\n",
    "def findIntersection(head1, head2): \n",
    "\t# creating a map \n",
    "\thashmap = {} \n",
    "\n",
    "\t# traversing on first list \n",
    "\twhile(head1 != None): \n",
    "\t\tdata = head1.data \n",
    "\t\tif(data not in hashmap.keys()): \n",
    "\t\t\thashmap[data] = 1\n",
    "\t\thead1 = head1.next\n",
    "\n",
    "\t# making a new linkedList \n",
    "\tans = linkedList() \n",
    "\twhile(head2 != None): \n",
    "\t\tdata = head2.data \n",
    "\t\tif(data in hashmap.keys()): \n",
    "\t\t\t# adding data to new list \n",
    "\t\t\tans.insert(data) \n",
    "\t\thead2 = head2.next\n",
    "\treturn ans.head \n",
    "\n",
    "# return the head of new list containing the union of 2 linkedList \n",
    "\n",
    "\n",
    "def union(head1, head2): \n",
    "\t# creating a map \n",
    "\thashmap = {} \n",
    "\n",
    "\t# traversing on first list \n",
    "\twhile(head1 != None): \n",
    "\t\tdata = head1.data \n",
    "\t\tif(data not in hashmap.keys()): \n",
    "\t\t\thashmap[data] = 1\n",
    "\t\thead1 = head1.next\n",
    "\n",
    "\twhile(head2 != None): \n",
    "\t\tdata = head2.data \n",
    "\t\tif(data not in hashmap.keys()): \n",
    "\t\t\thashmap[data] = 1\n",
    "\t\thead2 = head2.next\n",
    "\n",
    "\t# making a new linkedList \n",
    "\tans = linkedList() \n",
    "\n",
    "\t# traverse on hashmap \n",
    "\tfor key, value in hashmap.items(): \n",
    "\t\tans.insert(key) \n",
    "\n",
    "\treturn ans.head \n",
    "\n",
    "\n",
    "def printList(head): \n",
    "\twhile head: \n",
    "\t\tprint(head.data, end=' ') \n",
    "\t\thead = head.next\n",
    "\tprint() \n",
    "\n",
    "\n",
    "if __name__ == '__main__': \n",
    "\n",
    "\t# first list \n",
    "\tll1 = linkedList() \n",
    "\tll1.insert(1) \n",
    "\tll1.insert(2) \n",
    "\tll1.insert(3) \n",
    "\tll1.insert(4) \n",
    "\tll1.insert(5) \n",
    "\n",
    "\t# second list \n",
    "\tll2 = linkedList() \n",
    "\tll2.insert(1) \n",
    "\tll2.insert(3) \n",
    "\tll2.insert(5) \n",
    "\tll2.insert(6) \n",
    "\n",
    "\tprint(\"First list is \") \n",
    "\tprintList(ll1.head) \n",
    "\n",
    "\tprint(\"Second list is \") \n",
    "\tprintList(ll2.head) \n",
    "\n",
    "\tprint(\"Intersection list is\") \n",
    "\tprintList(findIntersection(ll1.head, ll2.head)) \n",
    "\n",
    "\tprint(\"Union list is \") \n",
    "\tprintList(union(ll1.head, ll2.head)) \n",
    "\n",
    "\n",
    "# This code is contributed by Arpit Jain \n"
   ]
  },
  {
   "cell_type": "markdown",
   "id": "69980b6c",
   "metadata": {},
   "source": [
    " "
   ]
  },
  {
   "cell_type": "markdown",
   "id": "dc368fd1",
   "metadata": {},
   "source": [
    " "
   ]
  },
  {
   "cell_type": "markdown",
   "id": "331f691d-bceb-4fb9-a1cc-c9ec13a33434",
   "metadata": {},
   "source": [
    " "
   ]
  },
  {
   "cell_type": "markdown",
   "id": "580d272e-c047-4622-b1f1-6483f80cfb07",
   "metadata": {},
   "source": [
    " "
   ]
  },
  {
   "cell_type": "markdown",
   "id": "f8e1ee24-fcd2-465e-b581-64615a2f20a8",
   "metadata": {},
   "source": [
    " "
   ]
  },
  {
   "cell_type": "markdown",
   "id": "7440c3f7-f6f1-43d8-8a49-70f3b08a767c",
   "metadata": {},
   "source": [
    "# Hash Map"
   ]
  },
  {
   "cell_type": "markdown",
   "id": "975c29a0-99f3-45b8-b4d6-43b8b117478f",
   "metadata": {},
   "source": [
    " "
   ]
  },
  {
   "cell_type": "markdown",
   "id": "9fb698ab-a2a0-405f-a168-bd536d019a7b",
   "metadata": {},
   "source": [
    " "
   ]
  },
  {
   "cell_type": "code",
   "execution_count": null,
   "id": "ce44042d-266e-4a94-841b-f11b62aeb1c0",
   "metadata": {},
   "outputs": [],
   "source": [
    "class LinkedListNode:\n",
    "    \n",
    "    def __init__(self, key, value):\n",
    "        self.key = key\n",
    "        self.value = value\n",
    "        self.next = None\n",
    "\n",
    "\n",
    "class HashMap:\n",
    "    \n",
    "    def __init__(self, initial_size = 15):\n",
    "        self.bucket_array = [None for _ in range(initial_size)]\n",
    "        self.p = 31\n",
    "        self.num_entries = 0\n",
    "        self.load_factor = 0.7\n",
    "        \n",
    "    def put(self, key, value):\n",
    "        bucket_index = self.get_bucket_index(key)\n",
    "\n",
    "        new_node = LinkedListNode(key, value)\n",
    "        head = self.bucket_array[bucket_index]\n",
    "\n",
    "        # check if key is already present in the map, and update it's value\n",
    "        while head is not None:\n",
    "            if head.key == key:\n",
    "                head.value = value\n",
    "                return\n",
    "            head = head.next\n",
    "\n",
    "        # key not found in the chain --> create a new entry and place it at the head of the chain\n",
    "        head = self.bucket_array[bucket_index]\n",
    "        new_node.next = head\n",
    "        self.bucket_array[bucket_index] = new_node\n",
    "        self.num_entries += 1\n",
    "        \n",
    "        # check for load factor\n",
    "        current_load_factor = self.num_entries / len(self.bucket_array)\n",
    "        if current_load_factor > self.load_factor:\n",
    "            self.num_entries = 0\n",
    "            self._rehash()\n",
    "        \n",
    "    def get(self, key):\n",
    "        bucket_index = self.get_hash_code(key)\n",
    "        head = self.bucket_array[bucket_index]\n",
    "        while head is not None:\n",
    "            if head.key == key:\n",
    "                return head.value\n",
    "            head = head.next\n",
    "        return None\n",
    "        \n",
    "    def get_bucket_index(self, key):\n",
    "        bucket_index = self.get_hash_code(key)\n",
    "        return bucket_index\n",
    "    \n",
    "    def get_hash_code(self, key):\n",
    "        key = str(key)\n",
    "        num_buckets = len(self.bucket_array)\n",
    "        current_coefficient = 1\n",
    "        hash_code = 0\n",
    "        for character in key:\n",
    "            hash_code += ord(character) * current_coefficient\n",
    "            hash_code = hash_code % num_buckets                       # compress hash_code\n",
    "            current_coefficient *= self.p\n",
    "            current_coefficient = current_coefficient % num_buckets   # compress coefficient\n",
    "        return hash_code % num_buckets                                # one last compression before returning\n",
    "    \n",
    "    def size(self):\n",
    "        return self.num_entries\n",
    "\n",
    "    def _rehash(self):\n",
    "        old_num_buckets = len(self.bucket_array)\n",
    "        old_bucket_array = self.bucket_array\n",
    "        num_buckets = 2 * old_num_buckets\n",
    "        self.bucket_array = [None for _ in range(num_buckets)]\n",
    "\n",
    "        for head in old_bucket_array:\n",
    "            while head is not None:\n",
    "                key = head.key\n",
    "                value = head.value\n",
    "                self.put(key, value)         # we can use our put() method to rehash\n",
    "                head = head.next\n",
    "                \n",
    "    def delete(self, key):\n",
    "        bucket_index = self.get_bucket_index(key)\n",
    "        head = self.bucket_array[bucket_index]\n",
    "\n",
    "        previous = None\n",
    "        while head is not None:\n",
    "            if head.key == key:\n",
    "                if previous is None:\n",
    "                    self.bucket_array[bucket_index] = head.next\n",
    "                else:\n",
    "                    previous.next = head.next\n",
    "                self.num_entries -= 1\n",
    "                return\n",
    "            else:\n",
    "                previous = head\n",
    "                head = head.next\n",
    "\n",
    "    \n",
    "    # Helper function to see the hashmap\n",
    "    def __repr__(self):\n",
    "        output = \"\\nLet's view the hash map:\"\n",
    "\n",
    "        node = self.bucket_array\n",
    "        for bucket_index, node in enumerate(self.bucket_array):\n",
    "            if node is None:\n",
    "                output += '\\n[{}] '.format(bucket_index)\n",
    "            else:\n",
    "                output += '\\n[{}]'.format(bucket_index)\n",
    "                while node is not None:\n",
    "                    output += ' ({} , {}) '.format(node.key, node.value)\n",
    "                    if node.next is not None:\n",
    "                        output += ' --> '\n",
    "                    node = node.next\n",
    "                    \n",
    "        return output"
   ]
  },
  {
   "cell_type": "markdown",
   "id": "88c8aa47-1fc3-406c-9753-4bb89c9d9660",
   "metadata": {},
   "source": [
    " "
   ]
  },
  {
   "cell_type": "markdown",
   "id": "33bbbdfb-5783-4cf5-8461-e45d37393c43",
   "metadata": {},
   "source": [
    " "
   ]
  },
  {
   "cell_type": "markdown",
   "id": "49ea38d4-8bfb-4fd6-b022-19404497af12",
   "metadata": {},
   "source": [
    " "
   ]
  },
  {
   "cell_type": "markdown",
   "id": "de5d8f73-2386-4bb2-b9e8-4051b8982c03",
   "metadata": {},
   "source": [
    " "
   ]
  },
  {
   "cell_type": "markdown",
   "id": "207b6fe4-38d1-44f4-a4bb-dfd39c1d53a2",
   "metadata": {},
   "source": [
    " "
   ]
  },
  {
   "cell_type": "markdown",
   "id": "ec49e6ca-7759-4520-a6ca-46f8ccab76e8",
   "metadata": {},
   "source": [
    "# Linked List (Template)"
   ]
  },
  {
   "cell_type": "markdown",
   "id": "fea1241f-49ba-4765-a621-707b639a18c4",
   "metadata": {},
   "source": [
    " "
   ]
  },
  {
   "cell_type": "code",
   "execution_count": 2,
   "id": "94eb3346-7f63-4d1e-a66c-dec6d38d692d",
   "metadata": {},
   "outputs": [],
   "source": [
    "class Node:\n",
    "    def __init__(self, value):\n",
    "        self.value = value\n",
    "        self.next = None\n",
    "\n",
    "    def __repr__(self):\n",
    "        return str(self.value)\n",
    "\n",
    "\n",
    "class LinkedList:\n",
    "    def __init__(self):\n",
    "        self.head = None\n",
    "\n",
    "    def __str__(self):\n",
    "        cur_head = self.head\n",
    "        out_string = \"\"\n",
    "        while cur_head:\n",
    "            out_string += str(cur_head.value) + \" -> \"\n",
    "            cur_head = cur_head.next\n",
    "        return out_string\n",
    "\n",
    "\n",
    "    def append(self, value):\n",
    "\n",
    "        if self.head is None:\n",
    "            self.head = Node(value)\n",
    "            return\n",
    "\n",
    "        node = self.head\n",
    "        while node.next:\n",
    "            node = node.next\n",
    "\n",
    "        node.next = Node(value)\n",
    "\n",
    "    def size(self):\n",
    "        size = 0\n",
    "        node = self.head\n",
    "        while node:\n",
    "            size += 1\n",
    "            node = node.next\n",
    "\n",
    "        return size"
   ]
  },
  {
   "cell_type": "markdown",
   "id": "b370c4c0-0209-4018-803f-8a502106abe0",
   "metadata": {},
   "source": [
    " "
   ]
  },
  {
   "cell_type": "markdown",
   "id": "0f30d298-a24c-4e7d-803c-5df745a93f36",
   "metadata": {},
   "source": [
    " "
   ]
  },
  {
   "cell_type": "markdown",
   "id": "c08b3ab5-926c-4d19-a527-801b30d6ff37",
   "metadata": {},
   "source": [
    " "
   ]
  },
  {
   "cell_type": "markdown",
   "id": "0d75a9a8-58d9-490a-acf6-59f7b434be7b",
   "metadata": {},
   "source": [
    " "
   ]
  },
  {
   "cell_type": "markdown",
   "id": "ab51774d-c494-4465-8597-4d64eecd90d3",
   "metadata": {},
   "source": [
    " "
   ]
  },
  {
   "cell_type": "markdown",
   "id": "3ddcf864-ffc3-459f-b095-3f62c500f4c7",
   "metadata": {},
   "source": [
    " "
   ]
  },
  {
   "cell_type": "markdown",
   "id": "9a0a0b63-a07e-4fcc-b7f4-7e00622ee4d8",
   "metadata": {},
   "source": [
    " "
   ]
  },
  {
   "cell_type": "markdown",
   "id": "14c337b1-0943-472c-b5a4-9d887cc488a1",
   "metadata": {},
   "source": [
    " "
   ]
  },
  {
   "cell_type": "markdown",
   "id": "5221fe72-e47c-4f29-8848-c915a9cdccb0",
   "metadata": {},
   "source": [
    "# Draft"
   ]
  },
  {
   "cell_type": "markdown",
   "id": "87e929d0-6819-4ac9-816e-ae8e734e7920",
   "metadata": {},
   "source": [
    " "
   ]
  },
  {
   "cell_type": "markdown",
   "id": "2d8eb9e1-5314-4aca-8641-ab35c30cba36",
   "metadata": {},
   "source": [
    " "
   ]
  },
  {
   "cell_type": "markdown",
   "id": "dab358e7-5c28-4dac-b6a8-88e9c909e32f",
   "metadata": {},
   "source": [
    "## Code"
   ]
  },
  {
   "cell_type": "markdown",
   "id": "17b3868c-3de2-4c95-83ac-20cab509eacb",
   "metadata": {},
   "source": [
    " "
   ]
  },
  {
   "cell_type": "markdown",
   "id": "0e97188e-029c-4e09-9675-49f5a6f1999a",
   "metadata": {},
   "source": [
    "### Linked List"
   ]
  },
  {
   "cell_type": "markdown",
   "id": "f7a744ac-5b47-4e92-b1ff-58c45bae0997",
   "metadata": {},
   "source": [
    " "
   ]
  },
  {
   "cell_type": "code",
   "execution_count": 4,
   "id": "d81f822b-d59a-4da6-8291-a4c72ef5e1a9",
   "metadata": {},
   "outputs": [],
   "source": [
    "class Node:\n",
    "    def __init__(self, value):\n",
    "        self.value = value\n",
    "        self.next = None\n",
    "\n",
    "    def __repr__(self):\n",
    "        return str(self.value)"
   ]
  },
  {
   "cell_type": "markdown",
   "id": "b994ed6a-110f-4a29-b3ae-4b3d3461f3a7",
   "metadata": {},
   "source": [
    " "
   ]
  },
  {
   "cell_type": "markdown",
   "id": "db0cb05d-4254-466b-a6a5-fd00b6e5e146",
   "metadata": {},
   "source": [
    " "
   ]
  },
  {
   "cell_type": "markdown",
   "id": "8a76580c-c097-4fb7-8c48-e5a9a2beda10",
   "metadata": {},
   "source": [
    " "
   ]
  },
  {
   "cell_type": "code",
   "execution_count": 64,
   "id": "5b28410d-95b0-4add-b5b0-fa92764b264a",
   "metadata": {},
   "outputs": [],
   "source": [
    "class LinkedList:\n",
    "    \n",
    "    def __init__(self):\n",
    "        self.head = None\n",
    "\n",
    "    def append(self, value):\n",
    "\n",
    "        node = Node(value)\n",
    "        \n",
    "        if self.head is None:\n",
    "            self.head = node\n",
    "            return\n",
    "            \n",
    "        node.next = self.head\n",
    "        self.head = node\n",
    "\n",
    "    def size(self):\n",
    "        size = 0\n",
    "        node = self.head\n",
    "        while node:\n",
    "            size += 1\n",
    "            node = node.next\n",
    "\n",
    "        return size\n",
    "\n",
    "    def from_list(self, values):\n",
    "        self.head = Node(values[0])\n",
    "\n",
    "        previous_node = self.head\n",
    "        for value in values[1:]:\n",
    "            node = Node(value)\n",
    "            previous_node.next = node\n",
    "            previous_node = node\n",
    "            \n",
    "        return\n",
    "    \n",
    "    def to_list(self):\n",
    "        values = []\n",
    "        node = self.head\n",
    "        while node:\n",
    "            values.append(node.value)\n",
    "            node = node.next\n",
    "        return values\n",
    "    \n",
    "    def __str__(self):\n",
    "        values = self.to_list()\n",
    "        out_string = \"[\"\n",
    "        for value in sorted(values):\n",
    "            out_string += str(value) + \" \"\n",
    "        out_string = out_string[:-1]\n",
    "        out_string += \"]\"\n",
    "        return out_string\n"
   ]
  },
  {
   "cell_type": "markdown",
   "id": "96ce5d55-776a-47ab-9437-edf55e56820d",
   "metadata": {},
   "source": [
    " "
   ]
  },
  {
   "cell_type": "markdown",
   "id": "9f41802f-1526-40bf-af95-0aa58a30c826",
   "metadata": {},
   "source": [
    " "
   ]
  },
  {
   "cell_type": "markdown",
   "id": "7044ddaf-390f-40ca-a238-ef306112347d",
   "metadata": {},
   "source": [
    " "
   ]
  },
  {
   "cell_type": "markdown",
   "id": "68419567-2009-4b6a-a4d3-d32545c28a05",
   "metadata": {},
   "source": [
    " "
   ]
  },
  {
   "cell_type": "markdown",
   "id": "8e35e2f6-f011-498c-9199-925afb749119",
   "metadata": {},
   "source": [
    "### Hash Map"
   ]
  },
  {
   "cell_type": "markdown",
   "id": "8b6d50fb-5686-43d7-b5e6-b5774d6e002e",
   "metadata": {},
   "source": [
    " "
   ]
  },
  {
   "cell_type": "code",
   "execution_count": 65,
   "id": "a8e4e395-351c-4994-be9b-d4192f8bdfc7",
   "metadata": {},
   "outputs": [],
   "source": [
    "class ChainNode:\n",
    "    \n",
    "    def __init__(self, key, value):\n",
    "        self.key = key\n",
    "        self.value = value\n",
    "        self.next = None\n"
   ]
  },
  {
   "cell_type": "markdown",
   "id": "1f086197-38ab-4b54-a81a-0060365f92df",
   "metadata": {},
   "source": [
    " "
   ]
  },
  {
   "cell_type": "markdown",
   "id": "797e5fd1-6bd0-4f58-8689-9a38b8ce5cfb",
   "metadata": {},
   "source": [
    " "
   ]
  },
  {
   "cell_type": "markdown",
   "id": "91327b59-7638-4e81-984f-1640c91bfb0e",
   "metadata": {},
   "source": [
    " "
   ]
  },
  {
   "cell_type": "markdown",
   "id": "42ac832a-32f4-48f5-8a8e-10e68858f09a",
   "metadata": {},
   "source": [
    " "
   ]
  },
  {
   "cell_type": "code",
   "execution_count": 66,
   "id": "00697ec2-24c0-4690-a63e-bd39b5d7feda",
   "metadata": {},
   "outputs": [],
   "source": [
    "class HashMap:\n",
    "    \n",
    "    def __init__(self, initial_size=15):\n",
    "        self.bucket_array = [None for _ in range(initial_size)]\n",
    "        self.p = 31\n",
    "        self.num_entries = 0\n",
    "        self.load_factor = 0.7\n",
    "        \n",
    "    def put(self, key, value):\n",
    "        bucket_index = self.get_bucket_index(key)\n",
    "\n",
    "        new_node = ChainNode(key, value)\n",
    "        head = self.bucket_array[bucket_index]\n",
    "\n",
    "        # check if key is already present in the map, and update it's value\n",
    "        while head is not None:\n",
    "            if head.key == key:\n",
    "                head.value = value\n",
    "                return\n",
    "            head = head.next\n",
    "\n",
    "        # key not found in the chain --> create a new entry and place it at the head of the chain\n",
    "        head = self.bucket_array[bucket_index]\n",
    "        new_node.next = head\n",
    "        self.bucket_array[bucket_index] = new_node\n",
    "        self.num_entries += 1\n",
    "        \n",
    "        # check for load factor\n",
    "        current_load_factor = self.num_entries / len(self.bucket_array)\n",
    "        if current_load_factor > self.load_factor:\n",
    "            self.num_entries = 0\n",
    "            self._rehash()\n",
    "        \n",
    "    def get(self, key):\n",
    "        bucket_index = self.get_hash_code(key)\n",
    "        head = self.bucket_array[bucket_index]\n",
    "        while head is not None:\n",
    "            if head.key == key:\n",
    "                return head.value\n",
    "            head = head.next\n",
    "        return None\n",
    "        \n",
    "    def get_bucket_index(self, key):\n",
    "        bucket_index = self.get_hash_code(key)\n",
    "        return bucket_index\n",
    "    \n",
    "    def get_hash_code(self, key):\n",
    "        key = str(key)\n",
    "        num_buckets = len(self.bucket_array)\n",
    "        current_coefficient = 1\n",
    "        hash_code = 0\n",
    "        for character in key:\n",
    "            hash_code += ord(character) * current_coefficient\n",
    "            hash_code = hash_code % num_buckets                       # compress hash_code\n",
    "            current_coefficient *= self.p\n",
    "            current_coefficient = current_coefficient % num_buckets   # compress coefficient\n",
    "        return hash_code % num_buckets                                # one last compression before returning\n",
    "    \n",
    "    def size(self):\n",
    "        return self.num_entries\n",
    "\n",
    "    def _rehash(self):\n",
    "        old_num_buckets = len(self.bucket_array)\n",
    "        old_bucket_array = self.bucket_array\n",
    "        num_buckets = 2 * old_num_buckets\n",
    "        self.bucket_array = [None for _ in range(num_buckets)]\n",
    "\n",
    "        for head in old_bucket_array:\n",
    "            while head is not None:\n",
    "                key = head.key\n",
    "                value = head.value\n",
    "                self.put(key, value)         # we can use our put() method to rehash\n",
    "                head = head.next\n",
    "                \n",
    "    def delete(self, key):\n",
    "        bucket_index = self.get_bucket_index(key)\n",
    "        head = self.bucket_array[bucket_index]\n",
    "\n",
    "        previous = None\n",
    "        while head is not None:\n",
    "            if head.key == key:\n",
    "                if previous is None:\n",
    "                    self.bucket_array[bucket_index] = head.next\n",
    "                else:\n",
    "                    previous.next = head.next\n",
    "                self.num_entries -= 1\n",
    "                return\n",
    "            else:\n",
    "                previous = head\n",
    "                head = head.next\n",
    "\n",
    "    \n",
    "    # Helper function to see the hashmap\n",
    "    def __repr__(self):\n",
    "        output = \"\\nLet's view the hash map:\"\n",
    "\n",
    "        node = self.bucket_array\n",
    "        for bucket_index, node in enumerate(self.bucket_array):\n",
    "            if node is None:\n",
    "                output += '\\n[{}] '.format(bucket_index)\n",
    "            else:\n",
    "                output += '\\n[{}]'.format(bucket_index)\n",
    "                while node is not None:\n",
    "                    output += ' ({} , {}) '.format(node.key, node.value)\n",
    "                    if node.next is not None:\n",
    "                        output += ' --> '\n",
    "                    node = node.next\n",
    "                    \n",
    "        return output"
   ]
  },
  {
   "cell_type": "markdown",
   "id": "6b3dbfef-e71d-4040-afa8-22b4f1e39c00",
   "metadata": {},
   "source": [
    " "
   ]
  },
  {
   "cell_type": "markdown",
   "id": "11a41657-fe14-4719-a5a2-ef3db9cdf12a",
   "metadata": {},
   "source": [
    " "
   ]
  },
  {
   "cell_type": "markdown",
   "id": "92cec0b8-00ea-432c-859f-15a6835339a9",
   "metadata": {},
   "source": [
    " "
   ]
  },
  {
   "cell_type": "markdown",
   "id": "022d97dc-feb5-4487-8ad6-fc364bc808fb",
   "metadata": {},
   "source": [
    "## Union"
   ]
  },
  {
   "cell_type": "markdown",
   "id": "aaf739fa-ae5f-48b4-9139-892af54c9dce",
   "metadata": {},
   "source": [
    " "
   ]
  },
  {
   "cell_type": "markdown",
   "id": "694091b7-c2d8-4a3a-b1fa-e108e030e1db",
   "metadata": {},
   "source": [
    " "
   ]
  },
  {
   "cell_type": "markdown",
   "id": "dc50ebef-1faa-4057-aebe-67bbe7f1ea7e",
   "metadata": {},
   "source": [
    " "
   ]
  },
  {
   "cell_type": "code",
   "execution_count": 67,
   "id": "71fc7237-98fb-4b54-8524-b276e7241aa7",
   "metadata": {},
   "outputs": [],
   "source": [
    "def union(llist_1, llist_2):\n",
    "    llist_union = LinkedList()\n",
    "    hash_map = HashMap()\n",
    "\n",
    "    # Iterate first linked list\n",
    "    node = llist_1.head\n",
    "    while node is not None:\n",
    "        \n",
    "        value = node.value\n",
    "        if hash_map.get(value) is None:\n",
    "            hash_map.put(value, value)\n",
    "            llist_union.append(value)\n",
    "\n",
    "        node = node.next\n",
    "\n",
    "    node = llist_2.head\n",
    "    while node is not None:\n",
    "        \n",
    "        value = node.value\n",
    "        if hash_map.get(value) is None:\n",
    "            hash_map.put(value, value)\n",
    "            llist_union.append(value)\n",
    "\n",
    "        node = node.next\n",
    "\n",
    "    return llist_union\n"
   ]
  },
  {
   "cell_type": "markdown",
   "id": "d81d9d9b-5e81-4a15-aa3c-c64dfa21d1a5",
   "metadata": {},
   "source": [
    " "
   ]
  },
  {
   "cell_type": "markdown",
   "id": "112859b8-5b7a-472a-9830-f14ea79db506",
   "metadata": {},
   "source": [
    " "
   ]
  },
  {
   "cell_type": "markdown",
   "id": "ed428967-97d2-4907-8d75-195fd92b1ead",
   "metadata": {},
   "source": [
    " "
   ]
  },
  {
   "cell_type": "markdown",
   "id": "3fd9e98c-29fd-4d1b-a927-eca8f36a66ec",
   "metadata": {},
   "source": [
    " "
   ]
  },
  {
   "cell_type": "markdown",
   "id": "8acdbac2-a47e-4f2e-9cf5-60f85c068994",
   "metadata": {},
   "source": [
    " "
   ]
  },
  {
   "cell_type": "markdown",
   "id": "a0151d73-cad1-4267-89c6-11381d8a3437",
   "metadata": {},
   "source": [
    " "
   ]
  },
  {
   "cell_type": "markdown",
   "id": "d9f4d8cd-1d67-4a9f-9a79-d3bab27aac8c",
   "metadata": {},
   "source": [
    " "
   ]
  },
  {
   "cell_type": "markdown",
   "id": "1baf994f-e56f-4196-89ae-a627bf8be202",
   "metadata": {},
   "source": [
    " "
   ]
  },
  {
   "cell_type": "code",
   "execution_count": 68,
   "id": "a88c160f-e30a-4e75-a6f3-064f48770c00",
   "metadata": {},
   "outputs": [],
   "source": [
    "N = 1000000\n",
    "n_max = 1000000\n",
    "\n",
    "import numpy as np\n",
    "import time\n",
    "\n",
    "def compute_union(N, n_max):\n",
    "    \n",
    "    list_1 = np.random.randint(low=0, high=n_max, size=N)\n",
    "    list_2 = np.random.randint(low=0, high=n_max, size=N)\n",
    "\n",
    "    llist_1 = LinkedList()\n",
    "    llist_2 = LinkedList()\n",
    "\n",
    "    llist_1.from_list(list_1.tolist())\n",
    "    llist_2.from_list(list_2.tolist())\n",
    "    \n",
    "    start = time.time()\n",
    "    llist_union = union(llist_1, llist_2)\n",
    "    end = time.time()\n",
    "\n",
    "    # if len(np.union1d(element_1, element_2)) != len(llist_union.to_list()):\n",
    "    #     print(\"Error!\")\n",
    "    \n",
    "    return end - start\n"
   ]
  },
  {
   "cell_type": "markdown",
   "id": "a8f49d9a-ac93-4633-a514-2e02c82bad9a",
   "metadata": {},
   "source": [
    " "
   ]
  },
  {
   "cell_type": "markdown",
   "id": "ae7aa4bc-029d-48e4-b63f-f3841011aa5a",
   "metadata": {},
   "source": [
    " "
   ]
  },
  {
   "cell_type": "markdown",
   "id": "9318e31b-042a-4f61-92c7-3ed6c9f259cc",
   "metadata": {},
   "source": [
    " "
   ]
  },
  {
   "cell_type": "code",
   "execution_count": 139,
   "id": "92c44dc5-d6de-4463-8327-8971db15c317",
   "metadata": {},
   "outputs": [
    {
     "name": "stdout",
     "output_type": "stream",
     "text": [
      "300000\n",
      "350000\n",
      "400000\n",
      "450000\n",
      "500000\n",
      "550000\n",
      "600000\n",
      "650000\n",
      "700000\n",
      "750000\n",
      "800000\n",
      "850000\n",
      "900000\n",
      "950000\n"
     ]
    },
    {
     "data": {
      "text/plain": [
       "[<matplotlib.lines.Line2D at 0x17fc34290>]"
      ]
     },
     "execution_count": 139,
     "metadata": {},
     "output_type": "execute_result"
    },
    {
     "data": {
      "image/png": "[encoded data removed]",
      "text/plain": [
       "<Figure size 640x480 with 1 Axes>"
      ]
     },
     "metadata": {},
     "output_type": "display_data"
    }
   ],
   "source": [
    "import matplotlib.pyplot as plt\n",
    "\n",
    "times_l = []\n",
    "\n",
    "for n in range(300000, 1000000, 50000):\n",
    "    print(n)\n",
    "    \n",
    "    lapsed_time = compute_union(n, n)\n",
    "\n",
    "    times_l.append(lapsed_time)\n",
    "\n",
    "plt.plot(times_l)"
   ]
  },
  {
   "cell_type": "markdown",
   "id": "5a678a96-ce6a-434e-85a5-b7e8f851f694",
   "metadata": {},
   "source": [
    " "
   ]
  },
  {
   "cell_type": "markdown",
   "id": "1f961764-dad6-4609-ae68-36aab6f9abb0",
   "metadata": {},
   "source": [
    " "
   ]
  },
  {
   "cell_type": "code",
   "execution_count": 137,
   "id": "f255fce1-d29d-416d-9af6-cf77c7303ae1",
   "metadata": {},
   "outputs": [
    {
     "data": {
      "text/plain": [
       "[1.453765869140625, 3.339735984802246, 5.836325168609619]"
      ]
     },
     "execution_count": 137,
     "metadata": {},
     "output_type": "execute_result"
    }
   ],
   "source": [
    "times_l"
   ]
  },
  {
   "cell_type": "markdown",
   "id": "65a98e3a-f828-4fc9-bc9d-15daec9d0e60",
   "metadata": {},
   "source": [
    " "
   ]
  },
  {
   "cell_type": "markdown",
   "id": "6c916483-8235-4629-ab83-c2a8986742ad",
   "metadata": {},
   "source": [
    " "
   ]
  },
  {
   "cell_type": "markdown",
   "id": "dcc05176-0ab1-4aa7-b2ee-54ab6b417e56",
   "metadata": {},
   "source": [
    " "
   ]
  },
  {
   "cell_type": "markdown",
   "id": "67001b16-1997-4433-91e0-4206c41bcf44",
   "metadata": {},
   "source": [
    " "
   ]
  },
  {
   "cell_type": "markdown",
   "id": "dc941226-e925-44b0-8ff2-e06955f76cd2",
   "metadata": {},
   "source": [
    " "
   ]
  },
  {
   "cell_type": "markdown",
   "id": "e4438692-c047-4c5a-8246-be6c31f6b28d",
   "metadata": {},
   "source": [
    "## Intersection"
   ]
  },
  {
   "cell_type": "markdown",
   "id": "016e0348-d647-423b-8367-8ae346670a06",
   "metadata": {},
   "source": [
    " "
   ]
  },
  {
   "cell_type": "code",
   "execution_count": 69,
   "id": "57a6b0b7-99ef-4272-bc01-5e584fdca58d",
   "metadata": {},
   "outputs": [],
   "source": [
    "def intersection(llist_1, llist_2):\n",
    "    llist = LinkedList()\n",
    "    hash_map = HashMap()\n",
    "\n",
    "    # Iterate first linked list\n",
    "    node = llist_1.head\n",
    "    while node is not None:\n",
    "        \n",
    "        value = node.value\n",
    "        count = hash_map.get(value)\n",
    "        if count is None:\n",
    "            hash_map.put(value, 1)\n",
    "            \n",
    "        node = node.next\n",
    "\n",
    "    # Iterate second linked list\n",
    "    node = llist_2.head\n",
    "    while node is not None:  \n",
    "        \n",
    "        value = node.value\n",
    "        count = hash_map.get(value)\n",
    "        print(value, count)\n",
    "        \n",
    "        if count == 1:\n",
    "            hash_map.put(value, 2)\n",
    "            llist.append(value)            \n",
    "            \n",
    "        node = node.next\n",
    "\n",
    "    return llist"
   ]
  },
  {
   "cell_type": "markdown",
   "id": "6f9c807a-9da6-4517-9bbd-d3839b179525",
   "metadata": {},
   "source": [
    " "
   ]
  },
  {
   "cell_type": "markdown",
   "id": "8b65f356-4fb9-4cc7-9b35-7698c9ce476b",
   "metadata": {},
   "source": [
    " "
   ]
  },
  {
   "cell_type": "markdown",
   "id": "6657152b-d860-4efa-96c5-56b68f867971",
   "metadata": {},
   "source": [
    " "
   ]
  },
  {
   "cell_type": "markdown",
   "id": "68fde5e1-fdb4-4bb6-84e5-11194966d956",
   "metadata": {},
   "source": [
    " "
   ]
  },
  {
   "cell_type": "code",
   "execution_count": 70,
   "id": "69d4d4e1-ba9b-473a-a3e7-499dc3bc0199",
   "metadata": {},
   "outputs": [
    {
     "name": "stdout",
     "output_type": "stream",
     "text": [
      "[2 3 3 4 4 6 6 21 35 65]\n",
      "[1 1 4 6 6 9 11 21 32]\n",
      "[ 4  6 21]\n"
     ]
    }
   ],
   "source": [
    "\n",
    "import numpy as np\n",
    "\n",
    "list_1 = np.array([2, 3, 3, 4, 4, 6, 6, 21, 35, 65])\n",
    "list_2 = np.array([1, 1, 4, 6, 6, 9, 11, 21, 32])\n",
    "\n",
    "llist_1 = LinkedList()\n",
    "llist_2 = LinkedList()\n",
    "\n",
    "llist_1.from_list(list_1.tolist())\n",
    "llist_2.from_list(list_2.tolist())\n",
    "\n",
    "print(llist_1)\n",
    "print(llist_2)\n",
    "print(np.intersect1d(list_1, list_2))"
   ]
  },
  {
   "cell_type": "markdown",
   "id": "db09ba53-3128-4e9b-8867-304637d9566c",
   "metadata": {},
   "source": [
    " "
   ]
  },
  {
   "cell_type": "markdown",
   "id": "c168b3cc-e8f2-4cd2-a1fc-c70d947b5bf9",
   "metadata": {},
   "source": [
    " "
   ]
  },
  {
   "cell_type": "code",
   "execution_count": 72,
   "id": "6291b18c-0323-4424-bc20-bc0083e35ecd",
   "metadata": {},
   "outputs": [
    {
     "name": "stdout",
     "output_type": "stream",
     "text": [
      "[2 3 3 4 4 6 6 21 35 65]\n",
      "\n",
      "Let's view the hash map:\n",
      "[0] \n",
      "[1] \n",
      "[2] (65 , 1) \n",
      "[3] \n",
      "[4] \n",
      "[5] (2 , 1) \n",
      "[6] (3 , 1) \n",
      "[7] (4 , 1) \n",
      "[8] \n",
      "[9] (21 , 1)  -->  (6 , 1) \n",
      "[10] \n",
      "[11] \n",
      "[12] \n",
      "[13] \n",
      "[14] (35 , 1) \n",
      "1 None\n",
      "1 None\n",
      "4 1\n",
      "6 1\n",
      "6 2\n",
      "9 None\n",
      "11 None\n",
      "21 1\n",
      "32 None\n",
      "\n",
      "Let's view the hash map:\n",
      "[0] \n",
      "[1] \n",
      "[2] (65 , 1) \n",
      "[3] \n",
      "[4] \n",
      "[5] (2 , 1) \n",
      "[6] (3 , 1) \n",
      "[7] (4 , 2) \n",
      "[8] \n",
      "[9] (21 , 2)  -->  (6 , 2) \n",
      "[10] \n",
      "[11] \n",
      "[12] \n",
      "[13] \n",
      "[14] (35 , 1) \n",
      "[4 6 21]\n"
     ]
    }
   ],
   "source": [
    "llist = intersection(llist_1, llist_2)\n",
    "\n",
    "print(llist)"
   ]
  },
  {
   "cell_type": "markdown",
   "id": "9913a39c-cdec-4089-a513-4e7bd65e5cbb",
   "metadata": {},
   "source": [
    " "
   ]
  },
  {
   "cell_type": "markdown",
   "id": "62dd57fc-580f-427b-874b-fc661809f1f3",
   "metadata": {},
   "source": [
    " "
   ]
  },
  {
   "cell_type": "markdown",
   "id": "c9f0908f-acec-4f76-9111-307f473ac451",
   "metadata": {},
   "source": [
    " "
   ]
  },
  {
   "cell_type": "code",
   "execution_count": 63,
   "id": "2ebd4d5c-aaa8-438c-b7c2-1169ddf22244",
   "metadata": {},
   "outputs": [
    {
     "name": "stdout",
     "output_type": "stream",
     "text": [
      "21\n",
      "6\n",
      "4\n",
      "4\n"
     ]
    }
   ],
   "source": [
    "node = llist.head\n",
    "while node:\n",
    "    print(node.value)\n",
    "    node = node.next"
   ]
  },
  {
   "cell_type": "markdown",
   "id": "47c10132-f110-47f3-ab7f-5aca8b613749",
   "metadata": {},
   "source": [
    " "
   ]
  },
  {
   "cell_type": "markdown",
   "id": "690c2b69-9c9f-4e74-a3e8-e6ffee6a595a",
   "metadata": {},
   "source": [
    " "
   ]
  },
  {
   "cell_type": "markdown",
   "id": "d42b1134-4dbc-4095-b962-cfd81f15b64a",
   "metadata": {},
   "source": [
    " "
   ]
  },
  {
   "cell_type": "markdown",
   "id": "16d6ee66-6036-47ea-bf2c-2969831acdcb",
   "metadata": {},
   "source": [
    " "
   ]
  },
  {
   "cell_type": "markdown",
   "id": "0b8b47a3-e49f-4d55-b514-6e43663d0885",
   "metadata": {},
   "source": [
    " "
   ]
  },
  {
   "cell_type": "markdown",
   "id": "ea545c74-11b1-42db-a82a-8e8419c0b04e",
   "metadata": {},
   "source": [
    " "
   ]
  },
  {
   "cell_type": "markdown",
   "id": "db6656c9-f6a4-44cf-aeda-26c1a498d551",
   "metadata": {},
   "source": [
    " "
   ]
  },
  {
   "cell_type": "markdown",
   "id": "9148586b-06fc-4015-84fa-c2dad08c954d",
   "metadata": {},
   "source": [
    " "
   ]
  },
  {
   "cell_type": "markdown",
   "id": "1d1c07ca",
   "metadata": {},
   "source": [
    " "
   ]
  },
  {
   "cell_type": "markdown",
   "id": "d33fded3",
   "metadata": {},
   "source": [
    " "
   ]
  },
  {
   "cell_type": "markdown",
   "id": "b242cd83",
   "metadata": {},
   "source": [
    " "
   ]
  },
  {
   "cell_type": "markdown",
   "id": "f2cc008c",
   "metadata": {},
   "source": [
    " "
   ]
  },
  {
   "cell_type": "markdown",
   "id": "6c596e32",
   "metadata": {},
   "source": [
    " "
   ]
  },
  {
   "cell_type": "markdown",
   "id": "518cd891",
   "metadata": {},
   "source": [
    " "
   ]
  },
  {
   "cell_type": "markdown",
   "id": "eda1c917",
   "metadata": {},
   "source": [
    " "
   ]
  },
  {
   "cell_type": "markdown",
   "id": "8d54ca38",
   "metadata": {},
   "source": [
    " "
   ]
  },
  {
   "cell_type": "markdown",
   "id": "e4950bae",
   "metadata": {},
   "source": [
    " "
   ]
  },
  {
   "cell_type": "markdown",
   "id": "3ac8d470",
   "metadata": {},
   "source": [
    " "
   ]
  },
  {
   "cell_type": "markdown",
   "id": "e9ccb3c2",
   "metadata": {},
   "source": [
    " "
   ]
  },
  {
   "cell_type": "markdown",
   "id": "45824937",
   "metadata": {},
   "source": [
    " "
   ]
  },
  {
   "cell_type": "markdown",
   "id": "2f5e5b9b",
   "metadata": {},
   "source": [
    " "
   ]
  }
 ],
 "metadata": {
  "kernelspec": {
   "display_name": "projects",
   "language": "python",
   "name": "projects"
  },
  "language_info": {
   "codemirror_mode": {
    "name": "ipython",
    "version": 3
   },
   "file_extension": ".py",
   "mimetype": "text/x-python",
   "name": "python",
   "nbconvert_exporter": "python",
   "pygments_lexer": "ipython3",
   "version": "3.11.6"
  },
  "toc": {
   "base_numbering": 1,
   "nav_menu": {},
   "number_sections": true,
   "sideBar": true,
   "skip_h1_title": false,
   "title_cell": "Table of Contents",
   "title_sidebar": "Contents",
   "toc_cell": false,
   "toc_position": {
    "height": "calc(100% - 180px)",
    "left": "10px",
    "top": "150px",
    "width": "207px"
   },
   "toc_section_display": true,
   "toc_window_display": true
  }
 },
 "nbformat": 4,
 "nbformat_minor": 5
}
