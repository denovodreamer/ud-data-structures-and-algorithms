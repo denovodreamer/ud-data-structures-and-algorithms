{
 "cells": [
  {
   "cell_type": "markdown",
   "id": "517c7174",
   "metadata": {},
   "source": [
    "  "
   ]
  },
  {
   "cell_type": "markdown",
   "id": "56e597cf",
   "metadata": {},
   "source": [
    "  "
   ]
  },
  {
   "cell_type": "markdown",
   "id": "fd141218",
   "metadata": {},
   "source": [
    "  "
   ]
  },
  {
   "cell_type": "markdown",
   "id": "8a9a956f",
   "metadata": {},
   "source": [
    "  "
   ]
  },
  {
   "cell_type": "markdown",
   "id": "b2c06437",
   "metadata": {},
   "source": [
    "  "
   ]
  },
  {
   "cell_type": "markdown",
   "id": "0a35fa12",
   "metadata": {},
   "source": [
    "# Hash Map"
   ]
  },
  {
   "cell_type": "markdown",
   "id": "d4a3f928",
   "metadata": {},
   "source": [
    "  "
   ]
  },
  {
   "cell_type": "code",
   "execution_count": 29,
   "id": "ba1c972c",
   "metadata": {},
   "outputs": [
    {
     "name": "stdout",
     "output_type": "stream",
     "text": [
      "[2, 3, 9, 5, 1]\n"
     ]
    }
   ],
   "source": [
    "class LinkedListNode:\n",
    "    \n",
    "    def __init__(self, key, value):\n",
    "        self.key = key\n",
    "        self.value = value\n",
    "        self.next = None\n",
    "\n",
    "class HashMap:\n",
    "    def __init__(self, capacity=5):\n",
    "        self.bucket_array = [None for _ in range(capacity)]\n",
    "        self.capacity = capacity\n",
    "        self.p = 31\n",
    "        self.num_entries = 0\n",
    "        \n",
    "    def put(self, key, value):\n",
    "        bucket_index = self.get_bucket_index(key)\n",
    "        self.bucket_array[bucket_index] = value\n",
    "        self.num_entries += 1\n",
    "        \n",
    "    def get(self, key):\n",
    "        bucket_index = self.get_hash_code(key)\n",
    "        value = self.bucket_array[bucket_index]\n",
    "        return value\n",
    "        \n",
    "    def get_bucket_index(self, key):\n",
    "        bucket_index = self.get_hash_code(key)\n",
    "        return bucket_index\n",
    "    \n",
    "    def get_hash_code(self, key):\n",
    "        key = str(key)\n",
    "        num_buckets = len(self.bucket_array)\n",
    "        current_coefficient = 1\n",
    "        hash_code = 0\n",
    "        for character in key:\n",
    "            hash_code += ord(character) * current_coefficient\n",
    "            hash_code = hash_code % num_buckets                       # compress hash_code\n",
    "            current_coefficient *= self.p\n",
    "            current_coefficient = current_coefficient % num_buckets   # compress coefficient\n",
    "        return hash_code % num_buckets                                # one last compression before returning\n",
    "    \n",
    "    def size(self):\n",
    "        return self.num_entries\n",
    "\n",
    "    def check_capacity(self):\n",
    "        return self.size() < self.capacity \n",
    "    \n",
    "\n",
    "\n",
    "\n",
    "hash_map = HashMap(5)\n",
    "\n",
    "hash_map.put(1, 1)\n",
    "hash_map.put(2, 2)\n",
    "hash_map.put(3, 3)\n",
    "hash_map.put(5, 5)\n",
    "hash_map.put(4, 4)\n",
    "hash_map.put(9, 9)\n",
    "\n",
    "\n",
    "print(hash_map.bucket_array)"
   ]
  },
  {
   "cell_type": "markdown",
   "id": "7b3e4461",
   "metadata": {},
   "source": [
    "  "
   ]
  },
  {
   "cell_type": "markdown",
   "id": "f56a6b8b-063e-4fa5-9d71-3c9e590affed",
   "metadata": {},
   "source": [
    "  "
   ]
  },
  {
   "cell_type": "code",
   "execution_count": 26,
   "id": "4ba5f27c-b690-4533-832d-b1edd02a4acf",
   "metadata": {},
   "outputs": [
    {
     "data": {
      "text/plain": [
       "False"
      ]
     },
     "execution_count": 26,
     "metadata": {},
     "output_type": "execute_result"
    }
   ],
   "source": [
    "hash_map.check_capacity()"
   ]
  },
  {
   "cell_type": "markdown",
   "id": "347fab49-bdad-470f-9ca2-b425d57f3091",
   "metadata": {},
   "source": [
    "  "
   ]
  },
  {
   "cell_type": "markdown",
   "id": "c4296cbb",
   "metadata": {},
   "source": [
    "  "
   ]
  },
  {
   "cell_type": "markdown",
   "id": "856d03ac",
   "metadata": {},
   "source": [
    "  "
   ]
  },
  {
   "cell_type": "markdown",
   "id": "27d3d8c2",
   "metadata": {},
   "source": [
    "  "
   ]
  },
  {
   "cell_type": "markdown",
   "id": "3d7e6ebf",
   "metadata": {},
   "source": [
    "# LRU Cache"
   ]
  },
  {
   "cell_type": "markdown",
   "id": "ce5fd06c",
   "metadata": {},
   "source": [
    "  "
   ]
  },
  {
   "cell_type": "markdown",
   "id": "af7788c3",
   "metadata": {},
   "source": [
    "  "
   ]
  },
  {
   "cell_type": "markdown",
   "id": "80e52fac",
   "metadata": {},
   "source": [
    "  "
   ]
  },
  {
   "cell_type": "code",
   "execution_count": 25,
   "id": "91b6cc21",
   "metadata": {},
   "outputs": [
    {
     "name": "stdout",
     "output_type": "stream",
     "text": [
      "[6, 5, 4]\n"
     ]
    }
   ],
   "source": [
    "class DoubleNode:\n",
    "    def __init__(self, value):\n",
    "        self.value = value\n",
    "        self.next = None\n",
    "        self.previous = None\n",
    "\n",
    "class DoublyLinkedList:\n",
    "    def __init__(self):\n",
    "        self.head = None\n",
    "        self.tail = None\n",
    "    \n",
    "    def append(self, value):\n",
    "        node = DoubleNode(value)\n",
    "        \n",
    "        if self.head is None:\n",
    "            self.head = node\n",
    "        else:\n",
    "            self.head.next = node\n",
    "            node.previous = self.head\n",
    "            self.head = node\n",
    "        \n",
    "        return\n",
    "\n",
    "    def __iter__(self):\n",
    "        node = self.head\n",
    "        while node:\n",
    "            yield node.value\n",
    "            node = node.previous\n",
    "            \n",
    "    def __repr__(self):\n",
    "        return str([v for v in self])\n",
    "\n",
    "\n",
    "ll = DoublyLinkedList()\n",
    "\n",
    "ll.append(4)\n",
    "ll.append(5)\n",
    "ll.append(6)\n",
    "\n",
    "print(ll)"
   ]
  },
  {
   "cell_type": "markdown",
   "id": "de1de4bb",
   "metadata": {},
   "source": [
    "  "
   ]
  },
  {
   "cell_type": "markdown",
   "id": "dc167c56",
   "metadata": {},
   "source": [
    "  "
   ]
  },
  {
   "cell_type": "markdown",
   "id": "e889fdc6",
   "metadata": {},
   "source": [
    "  "
   ]
  },
  {
   "cell_type": "markdown",
   "id": "ce1a947d",
   "metadata": {},
   "source": [
    "  "
   ]
  },
  {
   "cell_type": "markdown",
   "id": "cbcf008d",
   "metadata": {},
   "source": [
    "  "
   ]
  },
  {
   "cell_type": "code",
   "execution_count": 35,
   "id": "d33f78ff",
   "metadata": {},
   "outputs": [
    {
     "name": "stdout",
     "output_type": "stream",
     "text": [
      "[12, 11, 10, 9, 8, 7]\n",
      "[7, 8, 10, 11, 12]\n"
     ]
    }
   ],
   "source": [
    "class LRU_Cache:\n",
    "\n",
    "    def __init__(self, capacity):\n",
    "        self.linked_list = DoublyLinkedList()\n",
    "        self.hash_map = HashMap(capacity)\n",
    "    \n",
    "    def set(self, key, value):\n",
    "\n",
    "        if not hash_map.check_capacity():\n",
    "            \n",
    "            \n",
    "        self.linked_list.append(value)\n",
    "        self.hash_map.put(key, value)\n",
    "\n",
    "        \n",
    "\n",
    "# Check capacity\n",
    "    \n",
    "# Check if value in cache through the hash map\n",
    "# value_0 = self.hash_map.get(key)\n",
    "\n",
    "# If exists move to the most recent position\n",
    "\n",
    "# If it doesnt exist insert in the most recent position\n",
    "\n",
    "\n",
    "# Set the value if the key is not present in the cache. \n",
    "# If the cache is at capacity remove the oldest item. \n",
    "        \n",
    "    \n",
    "\n",
    "    \n",
    "    \n",
    "cache = LRU_Cache(5)\n",
    "\n",
    "cache.set(7, 7)\n",
    "cache.set(8, 8)\n",
    "cache.set(9, 9)\n",
    "cache.set(10, 10)\n",
    "cache.set(11, 11)\n",
    "cache.set(12, 12)\n",
    "\n",
    "\n",
    "print(cache.linked_list)\n",
    "print(cache.hash_map.bucket_array)"
   ]
  },
  {
   "cell_type": "markdown",
   "id": "3a4d597f",
   "metadata": {},
   "source": [
    "  "
   ]
  },
  {
   "cell_type": "markdown",
   "id": "d404a53c",
   "metadata": {},
   "source": [
    "  "
   ]
  },
  {
   "cell_type": "markdown",
   "id": "c4d45f91",
   "metadata": {},
   "source": [
    "  "
   ]
  },
  {
   "cell_type": "code",
   "execution_count": 19,
   "id": "f6676b16",
   "metadata": {},
   "outputs": [
    {
     "data": {
      "text/plain": [
       "56"
      ]
     },
     "execution_count": 19,
     "metadata": {},
     "output_type": "execute_result"
    }
   ],
   "source": [
    "14256 % 100"
   ]
  },
  {
   "cell_type": "markdown",
   "id": "ef2f86a9",
   "metadata": {},
   "source": [
    "  "
   ]
  },
  {
   "cell_type": "markdown",
   "id": "99e9ffef",
   "metadata": {},
   "source": [
    "  "
   ]
  },
  {
   "cell_type": "markdown",
   "id": "e46ee989",
   "metadata": {},
   "source": [
    "  "
   ]
  },
  {
   "cell_type": "markdown",
   "id": "692b8266",
   "metadata": {},
   "source": [
    "  "
   ]
  },
  {
   "cell_type": "markdown",
   "id": "89e4ab32",
   "metadata": {},
   "source": [
    "# Tests"
   ]
  },
  {
   "cell_type": "markdown",
   "id": "3638bf40",
   "metadata": {},
   "source": [
    "  "
   ]
  },
  {
   "cell_type": "markdown",
   "id": "bc27fc4e",
   "metadata": {},
   "source": [
    "  "
   ]
  },
  {
   "cell_type": "code",
   "execution_count": null,
   "id": "a5645ffe",
   "metadata": {},
   "outputs": [],
   "source": [
    "\n",
    "\n",
    "our_cache = LRU_Cache(5)\n",
    "\n",
    "our_cache.set(1, 1);\n",
    "our_cache.set(2, 2);\n",
    "our_cache.set(3, 3);\n",
    "our_cache.set(4, 4);\n",
    "\n",
    "\n",
    "our_cache.get(1)       # returns 1\n",
    "our_cache.get(2)       # returns 2\n",
    "our_cache.get(9)      # returns -1 because 9 is not present in the cache\n",
    "\n",
    "our_cache.set(5, 5) \n",
    "our_cache.set(6, 6)\n",
    "\n",
    "our_cache.get(3)      # returns -1 because the cache reached it's capacity and 3 was the least recently used entry\n",
    "\n",
    "## Add your own test cases: include at least three test cases\n",
    "## and two of them must include edge cases, such as null, empty or very large values\n",
    "\n",
    "## Test Case 1\n",
    "\n",
    "## Test Case 2\n",
    "\n",
    "## Test Case 3"
   ]
  },
  {
   "cell_type": "markdown",
   "id": "a38941f3",
   "metadata": {},
   "source": [
    "  "
   ]
  },
  {
   "cell_type": "markdown",
   "id": "345144e5",
   "metadata": {},
   "source": [
    "  "
   ]
  },
  {
   "cell_type": "markdown",
   "id": "e518bfac",
   "metadata": {},
   "source": [
    "  "
   ]
  },
  {
   "cell_type": "markdown",
   "id": "0ec71fe8",
   "metadata": {},
   "source": [
    "  "
   ]
  },
  {
   "cell_type": "markdown",
   "id": "692db0c8",
   "metadata": {},
   "source": [
    "  "
   ]
  },
  {
   "cell_type": "markdown",
   "id": "593f4339",
   "metadata": {},
   "source": [
    "  "
   ]
  },
  {
   "cell_type": "markdown",
   "id": "5081e2ca",
   "metadata": {},
   "source": [
    "  "
   ]
  },
  {
   "cell_type": "markdown",
   "id": "28f3f631",
   "metadata": {},
   "source": [
    "  "
   ]
  },
  {
   "cell_type": "markdown",
   "id": "d1930ac3",
   "metadata": {},
   "source": [
    "  "
   ]
  },
  {
   "cell_type": "markdown",
   "id": "b3ae3b80",
   "metadata": {},
   "source": [
    "# Cache"
   ]
  },
  {
   "cell_type": "markdown",
   "id": "43c4e994",
   "metadata": {},
   "source": [
    "  "
   ]
  },
  {
   "cell_type": "markdown",
   "id": "2953975e-5b14-4ab1-bb50-77348128fb98",
   "metadata": {},
   "source": [
    "  "
   ]
  },
  {
   "cell_type": "code",
   "execution_count": null,
   "id": "2e126dc3-6f07-4396-91c7-ca33cadff5fc",
   "metadata": {},
   "outputs": [],
   "source": []
  },
  {
   "cell_type": "markdown",
   "id": "41ab389c-03ef-4938-98f0-1d6802e67bef",
   "metadata": {},
   "source": [
    "  "
   ]
  },
  {
   "cell_type": "markdown",
   "id": "68933f6f-a74e-4883-9833-6dbe1640f179",
   "metadata": {},
   "source": [
    "  "
   ]
  },
  {
   "cell_type": "markdown",
   "id": "201ec43a-12c7-4e15-b8c7-2aed521061d7",
   "metadata": {},
   "source": [
    "  "
   ]
  },
  {
   "cell_type": "markdown",
   "id": "9b7e8caf",
   "metadata": {},
   "source": [
    "  "
   ]
  },
  {
   "cell_type": "code",
   "execution_count": 21,
   "id": "04ab739f-50b5-4c47-82d3-cdc5113e8336",
   "metadata": {},
   "outputs": [
    {
     "name": "stdout",
     "output_type": "stream",
     "text": [
      "[8, 7, 6]\n"
     ]
    }
   ],
   "source": [
    "class Node:\n",
    "    def __init__(self, value):\n",
    "        self.value = value\n",
    "        self.next = None\n",
    "        self.previous = None\n",
    "\n",
    "class Cache:\n",
    "\n",
    "    def __init__(self, capacity):\n",
    "        self.head = None\n",
    "        self.tail = None\n",
    "        self.capacity = capacity\n",
    "        self.num_elements = 0\n",
    "\n",
    "\n",
    "    def append(self, value):\n",
    "        node = Node(value)\n",
    "        \n",
    "        if self.head is None:\n",
    "            self.head = node\n",
    "        else:\n",
    "            self.head.next = node\n",
    "            node.previous = self.head\n",
    "            self.head = node\n",
    "        \n",
    "        return node\n",
    "\n",
    "    def remove(self, element):\n",
    "        previous_node = element.previous\n",
    "        next_node = element.next\n",
    "        \n",
    "        previous_node.next = next_node\n",
    "        next_node.previous = previous_node\n",
    "        \n",
    "        return element\n",
    "    \n",
    "    def __iter__(self):\n",
    "        node = self.head\n",
    "        while node:\n",
    "            yield node.value\n",
    "            node = node.previous\n",
    "            \n",
    "    def __repr__(self):\n",
    "        return str([v for v in self])\n",
    "\n",
    "\n",
    "cache = Cache(5)\n",
    "\n",
    "cache.append(6)\n",
    "node_7 = cache.append(7)\n",
    "cache.append(8)\n",
    "\n",
    "print(cache)"
   ]
  },
  {
   "cell_type": "markdown",
   "id": "9f001044",
   "metadata": {},
   "source": [
    "  "
   ]
  },
  {
   "cell_type": "markdown",
   "id": "49e93925",
   "metadata": {},
   "source": [
    "  "
   ]
  },
  {
   "cell_type": "code",
   "execution_count": 19,
   "id": "eb9d699a-79b8-471a-b1b9-360f5d0a4fec",
   "metadata": {},
   "outputs": [],
   "source": [
    "a = cache.remove(node_7)"
   ]
  },
  {
   "cell_type": "markdown",
   "id": "a98882f4",
   "metadata": {},
   "source": [
    "  "
   ]
  },
  {
   "cell_type": "code",
   "execution_count": 20,
   "id": "8a21a2db-a79d-44a4-85ee-ec437e85c9ca",
   "metadata": {},
   "outputs": [
    {
     "data": {
      "text/plain": [
       "7"
      ]
     },
     "execution_count": 20,
     "metadata": {},
     "output_type": "execute_result"
    }
   ],
   "source": [
    "a.value"
   ]
  },
  {
   "cell_type": "markdown",
   "id": "82036be4",
   "metadata": {},
   "source": [
    "  "
   ]
  },
  {
   "cell_type": "markdown",
   "id": "f6e2e234",
   "metadata": {},
   "source": [
    "  "
   ]
  },
  {
   "cell_type": "code",
   "execution_count": 17,
   "id": "28ae59a1-0c1d-4599-83f5-e8ccdaf98652",
   "metadata": {},
   "outputs": [
    {
     "name": "stdout",
     "output_type": "stream",
     "text": [
      "[8, 6]\n"
     ]
    }
   ],
   "source": [
    "print(cache)"
   ]
  },
  {
   "cell_type": "markdown",
   "id": "18988f70",
   "metadata": {},
   "source": [
    "  "
   ]
  },
  {
   "cell_type": "markdown",
   "id": "5390ca9d",
   "metadata": {},
   "source": [
    "  "
   ]
  },
  {
   "cell_type": "code",
   "execution_count": null,
   "id": "590daaa7-88db-4ffc-afea-b91c1a01fcba",
   "metadata": {},
   "outputs": [],
   "source": [
    "# class LRUCache:\n",
    "#     def __init__(self, capacity):\n",
    "#         self.head = None\n",
    "#         self.tail = None\n",
    "#         self.capacity = capacity\n",
    "#         self.bucket_array = [None for _ in range(capacity)]\n",
    "#         self.p = 31\n",
    "#         self.num_entries = 0\n",
    "\n",
    "\n",
    "#     def append(self, node):\n",
    "#         if self.head is None:\n",
    "#             self.head = node\n",
    "#             self.tail = node\n",
    "#         else:\n",
    "#             self.head.next = node\n",
    "#             node.previous = self.head\n",
    "#             self.head = node\n",
    "        \n",
    "#         return None\n",
    "\n",
    "#     def remove(self, node):\n",
    "#         previous_node = node.previous\n",
    "#         next_node = node.next\n",
    "        \n",
    "#         previous_node.next = next_node\n",
    "#         next_node.previous = previous_node\n",
    "        \n",
    "#         return None\n",
    "\n",
    "#     def remove_lru(self):\n",
    "#         new_tail = self.tail.next\n",
    "#         new_tail.previous = None\n",
    "#         self.tail.next = None\n",
    "#         self.tail = new_tail\n",
    "\n",
    "#     def get_bucket_index(self, key):\n",
    "#         bucket_index = self.get_hash_code(key)\n",
    "#         return bucket_index\n",
    "    \n",
    "#     def get_bucket_index(self, key):\n",
    "#         bucket_index = self.get_hash_code(key)\n",
    "#         return bucket_index\n",
    "    \n",
    "#     def get_hash_code(self, key):\n",
    "#         key = str(key)\n",
    "#         num_buckets = len(self.bucket_array)\n",
    "#         current_coefficient = 1\n",
    "#         hash_code = 0\n",
    "#         for character in key:\n",
    "#             hash_code += ord(character) * current_coefficient\n",
    "#             hash_code = hash_code % num_buckets                       # compress hash_code\n",
    "#             current_coefficient *= self.p\n",
    "#             current_coefficient = current_coefficient % num_buckets   # compress coefficient\n",
    "#         return hash_code % num_buckets\n",
    "    \n",
    "#     def put(self, key, value):\n",
    "#         node = Node(value)\n",
    "\n",
    "#         if not self.check_capacity():\n",
    "#             self.remove_lru()\n",
    "        \n",
    "#         bucket_index = self.get_bucket_index(key)\n",
    "#         self.append(node)\n",
    "#         self.bucket_array[bucket_index] = node\n",
    "#         self.num_entries += 1\n",
    "\n",
    "#     def get(self, key):\n",
    "        \n",
    "#         # Get node from bucket array\n",
    "#         bucket_index = self.get_hash_code(key)\n",
    "#         node = self.bucket_array[bucket_index]\n",
    "#         self.bucket_array[bucket_index] = None\n",
    "\n",
    "#         # Remove node from cache\n",
    "#         self.remove(node)\n",
    "\n",
    "#         # Put the node on the front\n",
    "#         self.append(node)\n",
    "        \n",
    "#         return node.value\n",
    "\n",
    "#     def size(self):\n",
    "#         return self.num_entries\n",
    "\n",
    "#     def check_capacity(self):\n",
    "#         return self.size() < self.capacity \n",
    "    \n",
    "#     def to_list(self):\n",
    "#         bucket = []\n",
    "#         for node in self.bucket_array:\n",
    "#             if node is not None:\n",
    "#                 bucket.append(node.value)\n",
    "#             else:\n",
    "#                 bucket.append(None)\n",
    "        \n",
    "#         return bucket\n",
    "    \n",
    "#     def __iter__(self):\n",
    "#         node = self.head\n",
    "#         while node:\n",
    "#             yield node.value\n",
    "#             node = node.previous\n",
    "            \n",
    "#     def __repr__(self):\n",
    "#         return str([v for v in self])"
   ]
  },
  {
   "cell_type": "markdown",
   "id": "052eeb0b",
   "metadata": {},
   "source": [
    "  "
   ]
  },
  {
   "cell_type": "markdown",
   "id": "9a9273f8",
   "metadata": {},
   "source": [
    "  "
   ]
  },
  {
   "cell_type": "markdown",
   "id": "b9251872",
   "metadata": {},
   "source": [
    "  "
   ]
  },
  {
   "cell_type": "markdown",
   "id": "f3c08278",
   "metadata": {},
   "source": [
    "  "
   ]
  },
  {
   "cell_type": "markdown",
   "id": "00006652",
   "metadata": {},
   "source": [
    "# LRU_Cache"
   ]
  },
  {
   "cell_type": "markdown",
   "id": "3bd71615",
   "metadata": {},
   "source": [
    "  "
   ]
  },
  {
   "cell_type": "code",
   "execution_count": 91,
   "id": "fa64ae1b-debc-40e5-9c1b-0487ff59ff28",
   "metadata": {},
   "outputs": [
    {
     "name": "stdout",
     "output_type": "stream",
     "text": [
      "tail -->  6\n",
      "tail -->  6\n",
      "tail -->  6\n",
      "[7, 8, None, None, 6]\n",
      "[8, 7, 6]\n",
      "[None, 8, None, None, 6]\n",
      "[7, 8, 6]\n",
      "tail -->  6\n",
      "tail -->  6\n",
      "tail -->  8\n",
      "[None, 8, 10, 11, 12]\n",
      "[12, 11, 10, 7, 8]\n",
      "tail -->  8\n",
      "[None, 8, 10, None, 12]\n",
      "[11, 12, 10, 7, 8]\n",
      "-1\n",
      "tail -->  8\n",
      "[None, 8, 10, None, 12]\n",
      "[11, 12, 10, 7, 8]\n"
     ]
    }
   ],
   "source": [
    "class Node:\n",
    "    def __init__(self, value):\n",
    "        self.value = value\n",
    "        self.next = None\n",
    "        self.previous = None\n",
    "\n",
    "\n",
    "class HashMap:\n",
    "    def __init__(self, capacity):\n",
    "        self.capacity = capacity\n",
    "        self.bucket_array = [None for _ in range(capacity)]\n",
    "        self.p = 31\n",
    "        self.num_entries = 0\n",
    "\n",
    "    def get_bucket_index(self, key):\n",
    "        bucket_index = self.get_hash_code(key)\n",
    "        return bucket_index\n",
    "    \n",
    "    def get_bucket_index(self, key):\n",
    "        bucket_index = self.get_hash_code(key)\n",
    "        return bucket_index\n",
    "    \n",
    "    def get_hash_code(self, key):\n",
    "        key = str(key)\n",
    "        num_buckets = len(self.bucket_array)\n",
    "        current_coefficient = 1\n",
    "        hash_code = 0\n",
    "        for character in key:\n",
    "            hash_code += ord(character) * current_coefficient\n",
    "            hash_code = hash_code % num_buckets                       # compress hash_code\n",
    "            current_coefficient *= self.p\n",
    "            current_coefficient = current_coefficient % num_buckets   # compress coefficient\n",
    "        return hash_code % num_buckets\n",
    "\n",
    "    def size(self):\n",
    "        return self.num_entries\n",
    "\n",
    "    def check_capacity(self):\n",
    "        return self.size() < self.capacity \n",
    "    \n",
    "    def get_bucket(self):\n",
    "        bucket = []\n",
    "        for node in self.bucket_array:\n",
    "            if node is not None:\n",
    "                bucket.append(node.value)\n",
    "            else:\n",
    "                bucket.append(None)\n",
    "        \n",
    "        return bucket\n",
    "\n",
    "\n",
    "\n",
    "class LRU_Cache(HashMap):\n",
    "    def __init__(self, capacity):\n",
    "        super().__init__(capacity)\n",
    "        self.head = None\n",
    "        self.tail = None\n",
    "\n",
    "    def append(self, node):\n",
    "        if self.head is None:\n",
    "            self.head = node\n",
    "            self.tail = node\n",
    "        else:\n",
    "            self.head.next = node\n",
    "            node.previous = self.head\n",
    "            self.head = node\n",
    "        \n",
    "        return None\n",
    "\n",
    "    def remove(self, node):        \n",
    "        node.previous.next = next_node\n",
    "        node.next.previous = previous_node\n",
    "    \n",
    "        return None\n",
    "\n",
    "    def remove_lru(self):\n",
    "        new_tail = self.tail.next\n",
    "        new_tail.previous = None\n",
    "        self.tail.next = None\n",
    "        self.tail = new_tail\n",
    "        \n",
    "        return None\n",
    "    \n",
    "    def put(self, key, value):\n",
    "        node = Node(value)\n",
    "\n",
    "        if not self.check_capacity():\n",
    "            self.remove_lru()\n",
    "        \n",
    "        bucket_index = self.get_bucket_index(key)\n",
    "        self.append(node)\n",
    "        self.bucket_array[bucket_index] = node\n",
    "        self.num_entries += 1\n",
    "\n",
    "    def get(self, key):\n",
    "        # Get node from bucket array\n",
    "        bucket_index = self.get_hash_code(key)\n",
    "        node = self.bucket_array[bucket_index]\n",
    "        if node is None:\n",
    "            return -1\n",
    "        self.bucket_array[bucket_index] = None\n",
    "\n",
    "        # Remove node from cache\n",
    "        self.remove(node)\n",
    "\n",
    "        # Put the node on the front\n",
    "        self.append(node)\n",
    "        \n",
    "        return node.value\n",
    "    \n",
    "    def __iter__(self):\n",
    "        node = self.head\n",
    "        while node:\n",
    "            yield node.value\n",
    "            node = node.previous\n",
    "            \n",
    "    def __repr__(self):\n",
    "        return str([v for v in self])\n",
    "\n",
    "\n",
    "\n",
    "cache = LRUCache(5)\n",
    "\n",
    "cache.put(6, 6)\n",
    "print(\"tail --> \", cache.tail.value)\n",
    "cache.put(7, 7)\n",
    "print(\"tail --> \", cache.tail.value)\n",
    "cache.put(8, 8)\n",
    "print(\"tail --> \", cache.tail.value)\n",
    "print(cache.get_bucket())\n",
    "print(cache)\n",
    "\n",
    "value = cache.get(7)\n",
    "print(cache.get_bucket())\n",
    "print(cache)\n",
    "\n",
    "cache.put(10, 10)\n",
    "print(\"tail --> \", cache.tail.value)\n",
    "cache.put(11, 11)\n",
    "print(\"tail --> \", cache.tail.value)\n",
    "cache.put(12, 12)\n",
    "print(\"tail --> \", cache.tail.value)\n",
    "print(cache.get_bucket())\n",
    "print(cache)\n",
    "cache.get(11)\n",
    "print(\"tail --> \", cache.tail.value)\n",
    "print(cache.get_bucket())\n",
    "print(cache)\n",
    "value = cache.get(22)\n",
    "print(value)\n",
    "print(\"tail --> \", cache.tail.value)\n",
    "print(cache.get_bucket())\n",
    "print(cache)"
   ]
  },
  {
   "cell_type": "markdown",
   "id": "074a5bfa",
   "metadata": {},
   "source": [
    "  "
   ]
  },
  {
   "cell_type": "markdown",
   "id": "d9d4854a",
   "metadata": {},
   "source": [
    "  "
   ]
  },
  {
   "cell_type": "markdown",
   "id": "6e5760aa",
   "metadata": {},
   "source": [
    "  "
   ]
  },
  {
   "cell_type": "markdown",
   "id": "f651479f",
   "metadata": {},
   "source": [
    "  "
   ]
  },
  {
   "cell_type": "markdown",
   "id": "b0dfb867",
   "metadata": {},
   "source": [
    "  "
   ]
  },
  {
   "cell_type": "markdown",
   "id": "6cb6baf7",
   "metadata": {},
   "source": [
    "  "
   ]
  },
  {
   "cell_type": "markdown",
   "id": "402f0f76",
   "metadata": {},
   "source": [
    "  "
   ]
  },
  {
   "cell_type": "markdown",
   "id": "042c5e8c",
   "metadata": {},
   "source": [
    "  "
   ]
  },
  {
   "cell_type": "markdown",
   "id": "409c8ae9",
   "metadata": {},
   "source": [
    "  "
   ]
  },
  {
   "cell_type": "markdown",
   "id": "b07a0524",
   "metadata": {},
   "source": [
    "  "
   ]
  },
  {
   "cell_type": "markdown",
   "id": "49f01669",
   "metadata": {},
   "source": [
    "  "
   ]
  },
  {
   "cell_type": "markdown",
   "id": "34f0ec24",
   "metadata": {},
   "source": [
    "  "
   ]
  },
  {
   "cell_type": "markdown",
   "id": "3bad14f0",
   "metadata": {},
   "source": [
    "  "
   ]
  },
  {
   "cell_type": "markdown",
   "id": "01e07e0c",
   "metadata": {},
   "source": [
    "  "
   ]
  },
  {
   "cell_type": "markdown",
   "id": "8b2452d5",
   "metadata": {},
   "source": [
    "  "
   ]
  },
  {
   "cell_type": "markdown",
   "id": "b5999555",
   "metadata": {},
   "source": [
    "  "
   ]
  },
  {
   "cell_type": "markdown",
   "id": "fa26c59c",
   "metadata": {},
   "source": [
    "  "
   ]
  },
  {
   "cell_type": "markdown",
   "id": "710592c8",
   "metadata": {},
   "source": [
    "  "
   ]
  },
  {
   "cell_type": "markdown",
   "id": "2704f77f",
   "metadata": {},
   "source": [
    "  "
   ]
  },
  {
   "cell_type": "markdown",
   "id": "3f6d6e39",
   "metadata": {},
   "source": [
    "  "
   ]
  }
 ],
 "metadata": {
  "kernelspec": {
   "display_name": "Python 3 (ipykernel)",
   "language": "python",
   "name": "python3"
  },
  "language_info": {
   "codemirror_mode": {
    "name": "ipython",
    "version": 3
   },
   "file_extension": ".py",
   "mimetype": "text/x-python",
   "name": "python",
   "nbconvert_exporter": "python",
   "pygments_lexer": "ipython3",
   "version": "3.12.0"
  },
  "toc": {
   "base_numbering": 1,
   "nav_menu": {},
   "number_sections": true,
   "sideBar": true,
   "skip_h1_title": false,
   "title_cell": "Table of Contents",
   "title_sidebar": "Contents",
   "toc_cell": false,
   "toc_position": {
    "height": "743px",
    "left": "33px",
    "top": "111.125px",
    "width": "170px"
   },
   "toc_section_display": true,
   "toc_window_display": true
  }
 },
 "nbformat": 4,
 "nbformat_minor": 5
}
