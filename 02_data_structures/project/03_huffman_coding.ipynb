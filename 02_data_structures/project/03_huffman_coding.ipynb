{
 "cells": [
  {
   "cell_type": "markdown",
   "id": "8bc83e74-12d3-4554-8be9-ff37e006200f",
   "metadata": {},
   "source": [
    " "
   ]
  },
  {
   "cell_type": "markdown",
   "id": "0006a0ef-de87-4c4f-95ff-edca5d5439c3",
   "metadata": {},
   "source": [
    " "
   ]
  },
  {
   "cell_type": "markdown",
   "id": "340aa806-deef-4d87-ba2f-c4ec1f5fe01d",
   "metadata": {},
   "source": [
    " "
   ]
  },
  {
   "cell_type": "markdown",
   "id": "2b6a3118-f54f-4f84-800d-1dca34b550ba",
   "metadata": {},
   "source": [
    " "
   ]
  },
  {
   "cell_type": "markdown",
   "id": "a3d65b60-23d8-4e29-84e3-0ee3f84a0f87",
   "metadata": {},
   "source": [
    "https://www.geeksforgeeks.org/huffman-coding-greedy-algo-3/"
   ]
  },
  {
   "cell_type": "markdown",
   "id": "b9c6ebac-4861-4008-87ac-32b24f4651fd",
   "metadata": {},
   "source": [
    " "
   ]
  },
  {
   "cell_type": "markdown",
   "id": "4c0b4e03-1110-44bd-aeab-991ea6e28b38",
   "metadata": {},
   "source": [
    " "
   ]
  },
  {
   "cell_type": "markdown",
   "id": "b7249481-6112-4657-ab47-9041553a4cd5",
   "metadata": {},
   "source": [
    " "
   ]
  },
  {
   "cell_type": "markdown",
   "id": "f7d31422-dd13-4c95-a37a-c8546a0993a7",
   "metadata": {},
   "source": [
    " "
   ]
  },
  {
   "cell_type": "markdown",
   "id": "03223b7b-9fe5-4de2-a39a-7da3f89aa8f0",
   "metadata": {},
   "source": [
    " "
   ]
  },
  {
   "cell_type": "markdown",
   "id": "615be02e-54d4-4d91-a964-85206be81c72",
   "metadata": {},
   "source": [
    " "
   ]
  },
  {
   "cell_type": "markdown",
   "id": "f218e647-e605-42f3-8e57-1a5f019d1bed",
   "metadata": {},
   "source": [
    "# Frequency table"
   ]
  },
  {
   "cell_type": "markdown",
   "id": "deacb6e7-bc45-460f-8fc6-21bc6a326aa0",
   "metadata": {},
   "source": [
    " "
   ]
  },
  {
   "cell_type": "markdown",
   "id": "97e0b29a-2aff-433f-846e-af85a9f5d5f0",
   "metadata": {},
   "source": [
    " "
   ]
  },
  {
   "cell_type": "markdown",
   "id": "5365851a-4cb3-4499-b8b6-0c95db0c07a6",
   "metadata": {},
   "source": [
    " "
   ]
  },
  {
   "cell_type": "code",
   "execution_count": 1,
   "id": "5964a53d-5ac4-4f42-8a45-30b3ee1b932f",
   "metadata": {},
   "outputs": [],
   "source": [
    "class CharacterNode:\n",
    "    def __init__(self, character, frequency):\n",
    "        self.character = character\n",
    "        self.frequency = frequency\n",
    "        \n",
    "    def __repr__(self):\n",
    "        return f\"CharacterNode({self.character, self.frequency})\"\n",
    "    \n",
    "    def __str__(self):\n",
    "        return f\"CharacterNode({self.character, self.frequency})\""
   ]
  },
  {
   "cell_type": "markdown",
   "id": "5fbbdc49-a439-4ab7-afbc-499e03a3155e",
   "metadata": {},
   "source": [
    " "
   ]
  },
  {
   "cell_type": "markdown",
   "id": "7aca475a-958b-4956-b13f-34cb4cdc906e",
   "metadata": {},
   "source": [
    " "
   ]
  },
  {
   "cell_type": "markdown",
   "id": "590f7664-60a8-4310-8666-2be9ff8061d2",
   "metadata": {},
   "source": [
    " "
   ]
  },
  {
   "cell_type": "markdown",
   "id": "5269e42c-90c6-4e0e-9a35-bbae358ac078",
   "metadata": {},
   "source": [
    "Construct table"
   ]
  },
  {
   "cell_type": "code",
   "execution_count": 2,
   "id": "3c09a832-bf92-40f3-9ee2-260449749cad",
   "metadata": {},
   "outputs": [],
   "source": [
    "# message = \"AAAAAAABBBCCCCCCCDDEEEEEE\"\n",
    "\n",
    "def compute_frequencies(message):\n",
    "    frequencies = {}\n",
    "    for letter in message:\n",
    "        if letter not in frequencies:\n",
    "            frequencies[letter] = 1\n",
    "        else:\n",
    "            frequencies[letter] += 1\n",
    "    \n",
    "    frequencies = list(frequencies.items())\n",
    "    frequencies = sorted(frequencies, key=lambda x: x[1])\n",
    "\n",
    "    frequencies_table = []\n",
    "    for character, frequency in frequencies:\n",
    "        node = CharacterNode(character, frequency)\n",
    "        frequencies_table.append(node)\n",
    "        \n",
    "    return frequencies_table\n",
    "\n",
    "# frequencies_table = compute_frequencies(message)\n",
    "# frequencies_table"
   ]
  },
  {
   "cell_type": "markdown",
   "id": "cb4090ab-f65a-470a-8662-e4580852d6c0",
   "metadata": {},
   "source": [
    " "
   ]
  },
  {
   "cell_type": "markdown",
   "id": "55cd84f3-047d-4538-801e-60350dff0e07",
   "metadata": {},
   "source": [
    " "
   ]
  },
  {
   "cell_type": "markdown",
   "id": "e69f67de-b495-405e-8c2f-910747309b4b",
   "metadata": {},
   "source": [
    " "
   ]
  },
  {
   "cell_type": "markdown",
   "id": "a71565fd-7dff-4161-8b82-db9217bc47e8",
   "metadata": {},
   "source": [
    " "
   ]
  },
  {
   "cell_type": "markdown",
   "id": "6dd1f64e-ad14-4196-92c1-f49bc71361e8",
   "metadata": {},
   "source": [
    " "
   ]
  },
  {
   "cell_type": "markdown",
   "id": "b35a533a-eca9-406a-b5dd-a05694a83af1",
   "metadata": {},
   "source": [
    " "
   ]
  },
  {
   "cell_type": "markdown",
   "id": "cac8d571-1b62-4297-bbfe-461e56279cdb",
   "metadata": {},
   "source": [
    "# Priority Queue"
   ]
  },
  {
   "cell_type": "code",
   "execution_count": 3,
   "id": "aac55bee-6c28-41bf-8b98-653280fc3c7c",
   "metadata": {},
   "outputs": [],
   "source": [
    "class PriorityQueueNode:\n",
    "    def __init__(self, node):\n",
    "        self.node = node\n",
    "        self.priority = node.frequency\n",
    "        self.next = None\n",
    "        self.previous = None\n",
    "\n",
    "\n",
    "\n",
    "class PriorityQueue:\n",
    "    def __init__(self):\n",
    "        self.head = None\n",
    "        self.num_elements = 0\n",
    "\n",
    "    def insert(self, node):\n",
    "\n",
    "        new_node = PriorityQueueNode(node)\n",
    "        \n",
    "        if self.head is None:\n",
    "            self.head = new_node\n",
    "            self.num_elements += 1\n",
    "            return\n",
    "\n",
    "        current_node = self.head\n",
    "        \n",
    "        while current_node:\n",
    "            \n",
    "            if new_node.priority <= current_node.priority:\n",
    "\n",
    "                if current_node is self.head: # Front of the queue\n",
    "                    current_node.previous = new_node\n",
    "                    new_node.next = current_node\n",
    "                    self.head = new_node\n",
    "                else: # Wihtin the queue\n",
    "                    new_node.previous = current_node.previous\n",
    "                    new_node.next = current_node\n",
    "\n",
    "                    current_node.previous.next = new_node\n",
    "                    current_node.previous = new_node\n",
    "\n",
    "                self.num_elements += 1\n",
    "                return\n",
    "\n",
    "            # End of queue\n",
    "            if current_node.next is None:\n",
    "                current_node.next = new_node\n",
    "                new_node.previous = current_node\n",
    "\n",
    "                self.num_elements += 1\n",
    "                return\n",
    "            \n",
    "            current_node = current_node.next\n",
    "    \n",
    "\n",
    "    def pop(self):\n",
    "\n",
    "        node = self.head\n",
    "\n",
    "        # If only one node\n",
    "        if self.size() == 1:\n",
    "            self.head = None\n",
    "            self.num_elements -= 1\n",
    "            return node\n",
    "            \n",
    "        node.next.previous = None\n",
    "        self.head = node.next\n",
    "        node.next = None\n",
    "\n",
    "        self.num_elements -= 1\n",
    "        return node\n",
    "        \n",
    "    def size(self):\n",
    "        return self.num_elements\n",
    "    \n",
    "    def is_empty(self):\n",
    "        return self.num_elements == 0\n",
    "\n",
    "    def print(self):\n",
    "        out = []\n",
    "        node = self.head\n",
    "        while node:\n",
    "            out.append(node.priority)\n",
    "            node = node.next\n",
    "        return out"
   ]
  },
  {
   "cell_type": "markdown",
   "id": "cfa081ee-ae49-4aad-b4de-a2a9879ec93c",
   "metadata": {},
   "source": [
    " "
   ]
  },
  {
   "cell_type": "markdown",
   "id": "b32d2867-9f14-42a2-8c16-d223b8b2aa7e",
   "metadata": {},
   "source": [
    " "
   ]
  },
  {
   "cell_type": "markdown",
   "id": "a86ba871-0a5f-4746-9ae5-4319f08263ca",
   "metadata": {},
   "source": [
    " "
   ]
  },
  {
   "cell_type": "markdown",
   "id": "c8eb4101-9d9b-4715-be9f-20caf3382f37",
   "metadata": {},
   "source": [
    " "
   ]
  },
  {
   "cell_type": "markdown",
   "id": "4b56ff21-d787-4a90-8496-915b1d2c41e0",
   "metadata": {},
   "source": [
    " "
   ]
  },
  {
   "cell_type": "markdown",
   "id": "55ed5dea-d323-4d3c-97e6-6042eb48d160",
   "metadata": {},
   "source": [
    " "
   ]
  },
  {
   "cell_type": "markdown",
   "id": "ef1275c1-427b-436f-b1cb-f6488fac9d78",
   "metadata": {},
   "source": [
    " "
   ]
  },
  {
   "cell_type": "markdown",
   "id": "4bebd121-1f9b-4d46-a277-fe9e67d34013",
   "metadata": {},
   "source": [
    " "
   ]
  },
  {
   "cell_type": "markdown",
   "id": "d44e71dd-345c-49d7-ae3f-810e35e18eda",
   "metadata": {},
   "source": [
    "# Huffman tree"
   ]
  },
  {
   "cell_type": "markdown",
   "id": "b9e8fba3-29e8-41ee-b241-554ed1884046",
   "metadata": {},
   "source": [
    " "
   ]
  },
  {
   "cell_type": "markdown",
   "id": "7b920dc9-ad93-4f71-9224-47828d697386",
   "metadata": {},
   "source": [
    " "
   ]
  },
  {
   "cell_type": "markdown",
   "id": "c7d930fc-c5ad-4fb9-a0ba-fc131d947cf0",
   "metadata": {},
   "source": [
    "## Tree node"
   ]
  },
  {
   "cell_type": "code",
   "execution_count": 4,
   "id": "b5181cc6-584e-4c7a-aa35-cb9611ab9ce1",
   "metadata": {},
   "outputs": [],
   "source": [
    "class InternalNode:\n",
    "        \n",
    "    def __init__(self, frequency=None):\n",
    "        self.frequency = frequency\n",
    "        self.left = None\n",
    "        self.right = None\n",
    "           \n",
    "    def set_left_child(self,node):\n",
    "        self.left = node\n",
    "        \n",
    "    def set_right_child(self, node):\n",
    "        self.right = node\n",
    "        \n",
    "    def get_left_child(self):\n",
    "        return self.left\n",
    "    \n",
    "    def get_right_child(self):\n",
    "        return self.right\n",
    "\n",
    "    def has_left_child(self):\n",
    "        return self.left is not None\n",
    "    \n",
    "    def has_right_child(self):\n",
    "        return self.right is not None\n",
    "    \n",
    "    def __repr__(self):\n",
    "        return f\"InternalNode({self.frequency})\"\n",
    "    \n",
    "    def __str__(self):\n",
    "        return f\"InternalNode({self.frequency})\""
   ]
  },
  {
   "cell_type": "markdown",
   "id": "0acd47fc-33a2-4c89-81b2-9aa24973a4e1",
   "metadata": {},
   "source": [
    " "
   ]
  },
  {
   "cell_type": "markdown",
   "id": "cf3726c4-001f-413f-ad52-6f02f9308bb5",
   "metadata": {},
   "source": [
    " "
   ]
  },
  {
   "cell_type": "markdown",
   "id": "fa512029-03c7-493f-acc5-2f7ff2adb4dd",
   "metadata": {},
   "source": [
    " "
   ]
  },
  {
   "cell_type": "markdown",
   "id": "2216cf02-0a57-49db-858e-80d910e79fd2",
   "metadata": {},
   "source": [
    "Queue to print the BST"
   ]
  },
  {
   "cell_type": "code",
   "execution_count": 5,
   "id": "08b6e668-6fa8-4c52-9534-66ce3041b608",
   "metadata": {},
   "outputs": [],
   "source": [
    "from collections import deque\n",
    "\n",
    "class Queue():\n",
    "    def __init__(self):\n",
    "        self.q = deque()\n",
    "        \n",
    "    def enq(self,value):\n",
    "        self.q.appendleft(value)\n",
    "        \n",
    "    def deq(self):\n",
    "        if len(self.q) > 0:\n",
    "            return self.q.pop()\n",
    "        else:\n",
    "            return None\n",
    "    \n",
    "    def __len__(self):\n",
    "        return len(self.q)\n",
    "    \n",
    "    def __repr__(self):\n",
    "        if len(self.q) > 0:\n",
    "            s = \"<enqueue here>\\n_________________\\n\" \n",
    "            s += \"\\n_________________\\n\".join([str(item) for item in self.q])\n",
    "            s += \"\\n_________________\\n<dequeue here>\"\n",
    "            return s\n",
    "        else:\n",
    "            return \"<queue is empty>\"\n",
    "\n",
    "\n",
    "class TreeQueuePrint:\n",
    "    def __repr__(self):\n",
    "        level = 0\n",
    "        q = Queue()\n",
    "        visit_order = list()\n",
    "        node = self.get_root()\n",
    "        q.enq( (node,level) )\n",
    "        while(len(q) > 0):\n",
    "            node, level = q.deq()\n",
    "\n",
    "            if node == None:\n",
    "                continue\n",
    "            visit_order.append((node, level))\n",
    "            \n",
    "            if isinstance(node, InternalNode) and node.has_left_child():\n",
    "                q.enq( (node.get_left_child(), level +1 ))\n",
    "            else:\n",
    "                q.enq( (None, level +1) )\n",
    "\n",
    "            if isinstance(node, InternalNode) and node.has_right_child():\n",
    "                q.enq( (node.get_right_child(), level +1 ))\n",
    "            else:\n",
    "                q.enq( (None, level +1) )\n",
    "\n",
    "        s = \"Tree\\n\"\n",
    "        previous_level = -1\n",
    "        for i in range(len(visit_order)):\n",
    "            node, level = visit_order[i]\n",
    "            if level == previous_level:\n",
    "                s += \" | \" + str(node) \n",
    "            else:\n",
    "                s += \"\\n\" + str(node)\n",
    "                previous_level = level\n",
    "\n",
    "                \n",
    "        return s"
   ]
  },
  {
   "cell_type": "markdown",
   "id": "36c35520-3b03-4206-ac4c-15ab85c4ff10",
   "metadata": {},
   "source": [
    " "
   ]
  },
  {
   "cell_type": "markdown",
   "id": "e4c46a1a-31a8-4b5e-8121-bb5bcb6437d5",
   "metadata": {},
   "source": [
    " "
   ]
  },
  {
   "cell_type": "markdown",
   "id": "27f2fc10-c6fd-4210-be14-c038535b0f49",
   "metadata": {},
   "source": [
    " "
   ]
  },
  {
   "cell_type": "markdown",
   "id": "a505408e-991c-408c-8607-4e091ac9bc05",
   "metadata": {},
   "source": [
    "## Binary Search Tree"
   ]
  },
  {
   "cell_type": "markdown",
   "id": "2b9bf3b7-c0d9-4974-88e4-66f9fa42d946",
   "metadata": {},
   "source": [
    " "
   ]
  },
  {
   "cell_type": "code",
   "execution_count": 6,
   "id": "8124a06c-c223-4315-a5e7-3d74c6ca90ce",
   "metadata": {},
   "outputs": [],
   "source": [
    "class Tree(TreeQueuePrint):\n",
    "    def __init__(self):\n",
    "        self.root = None\n",
    "\n",
    "    def set_root(self, root):\n",
    "        self.root = root\n",
    "\n",
    "    def get_root(self):\n",
    "        return self.root"
   ]
  },
  {
   "cell_type": "markdown",
   "id": "c890cd6b-610e-4785-b61b-d41f88841eb7",
   "metadata": {},
   "source": [
    " "
   ]
  },
  {
   "cell_type": "markdown",
   "id": "ae9558b9-2ad7-4b18-afef-b10dbeb08e9c",
   "metadata": {},
   "source": [
    " "
   ]
  },
  {
   "cell_type": "markdown",
   "id": "24e278c9-6673-4c7a-bfd5-5ce4ed091a24",
   "metadata": {},
   "source": [
    " "
   ]
  },
  {
   "cell_type": "markdown",
   "id": "ce97d777-c2cf-40a5-9f9f-53372c2c551a",
   "metadata": {},
   "source": [
    " "
   ]
  },
  {
   "cell_type": "markdown",
   "id": "cb71b5f2-1d17-4f18-a435-aafbb0ec4667",
   "metadata": {},
   "source": [
    " "
   ]
  },
  {
   "cell_type": "markdown",
   "id": "1e86c409-c5e5-42b7-ac3e-7035a208c7f7",
   "metadata": {},
   "source": [
    "## Build the tree"
   ]
  },
  {
   "cell_type": "markdown",
   "id": "2665c375-17cc-4fdc-a976-ef38a9544808",
   "metadata": {},
   "source": [
    " "
   ]
  },
  {
   "cell_type": "code",
   "execution_count": 7,
   "id": "5fe6c559-ea96-41be-a9fb-92f46de4d37e",
   "metadata": {},
   "outputs": [],
   "source": [
    "def build_huffman_tree(frequencies_table):\n",
    "    node_list = list(frequencies_table)\n",
    "\n",
    "    # Build initial priority queue\n",
    "    queue = PriorityQueue()\n",
    "    for character_node in node_list:\n",
    "        queue.insert(character_node)\n",
    "\n",
    "    while queue.size() > 1:\n",
    "        \n",
    "        # First two elements of the queue (lowest priority)\n",
    "        node_1 = queue.pop()\n",
    "        node_2 = queue.pop()\n",
    "        \n",
    "        # Create new internal node\n",
    "        frequency = node_1.priority + node_2.priority\n",
    "        new_node = InternalNode(frequency)\n",
    "    \n",
    "        # Merge into one internal node\n",
    "        new_node.set_left_child(node_1.node)\n",
    "        new_node.set_right_child(node_2.node)\n",
    "    \n",
    "        # Insert the new internal node back into the queue\n",
    "        queue.insert(new_node)\n",
    "\n",
    "\n",
    "    # The root of the Huffman tree is the only node on the queue\n",
    "    huffman_tree = Tree()\n",
    "    root = queue.head.node\n",
    "    huffman_tree.set_root(root)\n",
    "\n",
    "    return huffman_tree\n",
    "\n",
    "\n",
    "# huffman_tree = build_huffman_tree(frequencies_table)\n",
    "\n",
    "# print(huffman_tree)"
   ]
  },
  {
   "cell_type": "markdown",
   "id": "a6b88ec2-175f-4a62-8592-d173dc0a9e65",
   "metadata": {},
   "source": [
    " "
   ]
  },
  {
   "cell_type": "markdown",
   "id": "37c9551e-b7ea-449e-9f68-84468575b6c8",
   "metadata": {},
   "source": [
    " "
   ]
  },
  {
   "cell_type": "markdown",
   "id": "1a1ddfbb-79b9-4a08-ab78-dd2971e407bc",
   "metadata": {},
   "source": [
    " "
   ]
  },
  {
   "cell_type": "markdown",
   "id": "dd3d1018-b482-4031-96fc-224f55d01dcb",
   "metadata": {},
   "source": [
    " "
   ]
  },
  {
   "cell_type": "markdown",
   "id": "2bd6edbe-c2bc-4251-a933-c7539431dab7",
   "metadata": {},
   "source": [
    " "
   ]
  },
  {
   "cell_type": "markdown",
   "id": "02d68487-001d-4126-8865-0c0c1ac8699c",
   "metadata": {},
   "source": [
    " "
   ]
  },
  {
   "cell_type": "markdown",
   "id": "d60f8a11-7513-4f69-a496-311d14d18332",
   "metadata": {},
   "source": [
    " "
   ]
  },
  {
   "cell_type": "markdown",
   "id": "c0d89b32-ac50-4152-8327-aa2cfd25ebff",
   "metadata": {},
   "source": [
    "# Encoding"
   ]
  },
  {
   "cell_type": "markdown",
   "id": "21ebb28f-a730-4dec-bf3c-64c183d1eef2",
   "metadata": {},
   "source": [
    " "
   ]
  },
  {
   "cell_type": "markdown",
   "id": "914ecbd1-a7ac-4dce-b299-09fc6a7f6022",
   "metadata": {},
   "source": [
    " "
   ]
  },
  {
   "cell_type": "code",
   "execution_count": 26,
   "id": "c6ae2245-3f81-4f1e-9313-a74b82c94414",
   "metadata": {},
   "outputs": [],
   "source": [
    "def traverse(node, base_code, codes):\n",
    "\n",
    "    if isinstance(node, CharacterNode):\n",
    "        codes[node.character] = base_code\n",
    "        return\n",
    "        \n",
    "    code = base_code + \"0\"\n",
    "    traverse(node.get_left_child(), code, codes)\n",
    "\n",
    "    code = base_code + \"1\"\n",
    "    traverse(node.get_right_child(), code, codes)\n",
    "\n",
    "    return\n",
    "\n",
    "\n",
    "def process_encoding(tree):\n",
    "    \n",
    "    code = \"\"\n",
    "    codes = {}\n",
    "    traverse(tree.get_root(), code, codes)\n",
    "    \n",
    "    return codes\n",
    "\n",
    "\n",
    "def huffman_encoding(message):\n",
    "   \n",
    "    frequencies_table = compute_frequencies(message)\n",
    "\n",
    "    tree = build_huffman_tree(frequencies_table)\n",
    "\n",
    "    encoding = process_encoding(tree)\n",
    "\n",
    "    encoded_message = \"\"\n",
    "    for character in message:\n",
    "        encoded_message = encoded_message + encoding[character]\n",
    "    \n",
    "    return encoded_message, tree"
   ]
  },
  {
   "cell_type": "markdown",
   "id": "6a621fbd-5b88-4572-96e1-3190cbfc0f11",
   "metadata": {},
   "source": [
    " "
   ]
  },
  {
   "cell_type": "markdown",
   "id": "f6963d09-e09e-4330-a2df-aa1d124a1aed",
   "metadata": {},
   "source": [
    " "
   ]
  },
  {
   "cell_type": "markdown",
   "id": "0f9a3dcd-fecf-4672-97bc-9679c1f76417",
   "metadata": {},
   "source": [
    " "
   ]
  },
  {
   "cell_type": "markdown",
   "id": "f2ac9bd0-bebd-4db7-8bbe-1e93f40901bd",
   "metadata": {},
   "source": [
    " "
   ]
  },
  {
   "cell_type": "markdown",
   "id": "bde622b8-2a51-4fc6-9b17-17bb5d716bfc",
   "metadata": {},
   "source": [
    " "
   ]
  },
  {
   "cell_type": "markdown",
   "id": "49a40fae-38f6-4f7c-b993-169b5be1a72c",
   "metadata": {},
   "source": [
    " "
   ]
  },
  {
   "cell_type": "markdown",
   "id": "56c3a6df-9048-4549-8968-6c6fcf4103a2",
   "metadata": {},
   "source": [
    " "
   ]
  },
  {
   "cell_type": "markdown",
   "id": "560de84d-477e-4722-abc4-83d940facb17",
   "metadata": {},
   "source": [
    " "
   ]
  },
  {
   "cell_type": "markdown",
   "id": "77ad3cea-a598-4605-a4bc-89c8ce374986",
   "metadata": {},
   "source": [
    " "
   ]
  },
  {
   "cell_type": "markdown",
   "id": "5378f4e9-ac82-4b77-89e8-882bf57f5b1e",
   "metadata": {},
   "source": [
    "# Decoding"
   ]
  },
  {
   "cell_type": "markdown",
   "id": "816aab64-8e5a-497e-ad5d-263a2daa4d9f",
   "metadata": {},
   "source": [
    " "
   ]
  },
  {
   "cell_type": "code",
   "execution_count": 27,
   "id": "e4dba488-3297-4870-961f-ec9f60b3fb15",
   "metadata": {},
   "outputs": [],
   "source": [
    "def traverse_tree(root, encoded_message):\n",
    "\n",
    "    node = root\n",
    "    while node:\n",
    "\n",
    "        if isinstance(node, CharacterNode):\n",
    "            return node.character, encoded_message\n",
    "        \n",
    "        next_bit = encoded_message[0]\n",
    "        encoded_message = encoded_message[1:]\n",
    "\n",
    "        if next_bit == \"0\":\n",
    "            next_node = node.get_left_child()\n",
    "        elif next_bit == \"1\":\n",
    "            next_node = node.get_right_child()\n",
    "\n",
    "        node = next_node\n",
    "    \n",
    "    return\n",
    "\n",
    "def huffman_decoding(encoded_message, tree):\n",
    "    \n",
    "    decoded_message = \"\"\n",
    "\n",
    "    while len(encoded_message) > 0:\n",
    "        character, encoded_message = traverse_tree(tree.get_root(), encoded_message)\n",
    "        decoded_message += character\n",
    "    \n",
    "    return decoded_message"
   ]
  },
  {
   "cell_type": "markdown",
   "id": "9e5cf831-9edc-4cb3-be4a-d634ea952c24",
   "metadata": {},
   "source": [
    " "
   ]
  },
  {
   "cell_type": "markdown",
   "id": "0aa8f78b-e039-4058-b5a2-2f1e4d4f03e6",
   "metadata": {},
   "source": [
    " "
   ]
  },
  {
   "cell_type": "markdown",
   "id": "f38b3c18-208a-41f8-ac26-1dbc3323abd6",
   "metadata": {},
   "source": [
    " "
   ]
  },
  {
   "cell_type": "code",
   "execution_count": 28,
   "id": "b2f85216-71ca-4a2a-bf63-1c56dc0bdde2",
   "metadata": {},
   "outputs": [
    {
     "data": {
      "text/plain": [
       "True"
      ]
     },
     "execution_count": 28,
     "metadata": {},
     "output_type": "execute_result"
    }
   ],
   "source": [
    "message = \"AAAAAAABBBCCCCCCCDDEEEEEE\"\n",
    "\n",
    "encoded_message, tree = huffman_encoding(message)\n",
    "\n",
    "decoded_message = huffman_decoding(encoded_message, tree)\n",
    "\n",
    "decoded_message == message"
   ]
  },
  {
   "cell_type": "markdown",
   "id": "695e20a1-56e2-4d4c-bd55-7b2020f963ac",
   "metadata": {},
   "source": [
    " "
   ]
  },
  {
   "cell_type": "markdown",
   "id": "5b9add58-0976-4534-a5b5-80f6d31f7230",
   "metadata": {},
   "source": [
    " "
   ]
  },
  {
   "cell_type": "markdown",
   "id": "1b8f9d9f-60d2-4acc-83d7-858feee7772d",
   "metadata": {},
   "source": [
    " "
   ]
  },
  {
   "cell_type": "markdown",
   "id": "ae723c2f-999d-4909-9c00-6096913677dd",
   "metadata": {},
   "source": [
    " "
   ]
  },
  {
   "cell_type": "markdown",
   "id": "0737ebb1-5326-474b-b3cb-c01c49ec9da6",
   "metadata": {},
   "source": [
    " "
   ]
  },
  {
   "cell_type": "markdown",
   "id": "99e60d9a-d024-40bf-bc6b-9b46d454ecf9",
   "metadata": {},
   "source": [
    " "
   ]
  },
  {
   "cell_type": "markdown",
   "id": "9ae993d4-517a-49a6-bfe1-6dea8abccdf3",
   "metadata": {},
   "source": [
    " "
   ]
  },
  {
   "cell_type": "markdown",
   "id": "0676217c-ae43-497d-b5f6-7fa00911ed8d",
   "metadata": {},
   "source": [
    " "
   ]
  },
  {
   "cell_type": "markdown",
   "id": "90f33f42-427f-478f-9241-918d60508015",
   "metadata": {},
   "source": [
    " "
   ]
  },
  {
   "cell_type": "markdown",
   "id": "8f7ea5c4-f155-4566-886d-13c9b337b15c",
   "metadata": {},
   "source": [
    " "
   ]
  },
  {
   "cell_type": "markdown",
   "id": "609a0ec7-769d-47bd-839e-d56b5e93d8eb",
   "metadata": {},
   "source": [
    "# Tests"
   ]
  },
  {
   "cell_type": "markdown",
   "id": "52496749-040b-4aff-8ef4-dc7c8182e130",
   "metadata": {},
   "source": [
    " "
   ]
  },
  {
   "cell_type": "markdown",
   "id": "1cd2b4be-2657-4903-bcef-f8a7750bf9fe",
   "metadata": {},
   "source": [
    " "
   ]
  },
  {
   "cell_type": "code",
   "execution_count": 29,
   "id": "d3a69f44-f8a1-423c-a57f-be11765497a3",
   "metadata": {},
   "outputs": [
    {
     "name": "stdout",
     "output_type": "stream",
     "text": [
      "The size of the data is: 69\n",
      "\n",
      "The content of the data is: The bird is the word\n",
      "\n",
      "The size of the encoded data is: 36\n",
      "\n",
      "The content of the encoded data is: 1110100100010111000110101101100111111110111100010001011001110000101101\n",
      "\n",
      "The size of the decoded data is: 69\n",
      "\n",
      "The content of the encoded data is: The bird is the word\n",
      "\n"
     ]
    }
   ],
   "source": [
    "import sys\n",
    "\n",
    "\n",
    "a_great_sentence = \"The bird is the word\"\n",
    "\n",
    "print (\"The size of the data is: {}\\n\".format(sys.getsizeof(a_great_sentence)))\n",
    "print (\"The content of the data is: {}\\n\".format(a_great_sentence))\n",
    "\n",
    "encoded_data, tree = huffman_encoding(a_great_sentence)\n",
    "\n",
    "print (\"The size of the encoded data is: {}\\n\".format(sys.getsizeof(int(encoded_data, base=2))))\n",
    "print (\"The content of the encoded data is: {}\\n\".format(encoded_data))\n",
    "\n",
    "decoded_data = huffman_decoding(encoded_data, tree)\n",
    "\n",
    "print (\"The size of the decoded data is: {}\\n\".format(sys.getsizeof(decoded_data)))\n",
    "print (\"The content of the encoded data is: {}\\n\".format(decoded_data))"
   ]
  },
  {
   "cell_type": "markdown",
   "id": "9c0b9d04-135e-4d60-b5b5-58a3a7df5260",
   "metadata": {},
   "source": [
    " "
   ]
  },
  {
   "cell_type": "markdown",
   "id": "5e374c9b-450b-4b5b-bd04-f9f1864d8dfd",
   "metadata": {},
   "source": [
    " "
   ]
  },
  {
   "cell_type": "markdown",
   "id": "22493634-cfb7-463e-bdad-03f47ef83a91",
   "metadata": {},
   "source": [
    " "
   ]
  },
  {
   "cell_type": "markdown",
   "id": "31b3471c-28a1-43b9-b60a-11cb426d9dfd",
   "metadata": {},
   "source": [
    " "
   ]
  },
  {
   "cell_type": "markdown",
   "id": "33aa1d3c-c1b3-4085-a338-10d8b0d00532",
   "metadata": {},
   "source": [
    " "
   ]
  },
  {
   "cell_type": "markdown",
   "id": "03b969b8-89a1-4416-96ed-360aa4f677ff",
   "metadata": {},
   "source": [
    " "
   ]
  },
  {
   "cell_type": "markdown",
   "id": "651bcb17-175a-47a7-a24e-ae4fcb6e6aa1",
   "metadata": {},
   "source": [
    " "
   ]
  },
  {
   "cell_type": "markdown",
   "id": "eb83fb7e-1c91-4b6d-9d63-2cb76f9a6edd",
   "metadata": {},
   "source": [
    " "
   ]
  },
  {
   "cell_type": "markdown",
   "id": "f92b893b-1732-47ae-9f55-dea24e838b13",
   "metadata": {},
   "source": [
    " "
   ]
  },
  {
   "cell_type": "markdown",
   "id": "c45c6c6e-3f67-4a6e-9d39-30bf627b643f",
   "metadata": {},
   "source": [
    " "
   ]
  },
  {
   "cell_type": "markdown",
   "id": "3d518d0c-a3f5-4b19-9dd3-f7124326feea",
   "metadata": {},
   "source": [
    " "
   ]
  },
  {
   "cell_type": "markdown",
   "id": "ff19c6d5-2df3-4c0a-ab94-ab0fe1621327",
   "metadata": {},
   "source": [
    " "
   ]
  },
  {
   "cell_type": "markdown",
   "id": "b0bf1776-23e7-4bb9-b0c6-b967fb219202",
   "metadata": {},
   "source": [
    " "
   ]
  },
  {
   "cell_type": "markdown",
   "id": "130632bb-caa7-4dfe-8cdf-bc47c47eb2a8",
   "metadata": {},
   "source": [
    " "
   ]
  },
  {
   "cell_type": "markdown",
   "id": "cdb93952-6db9-4a91-861a-61ce21b0e11a",
   "metadata": {},
   "source": [
    " "
   ]
  },
  {
   "cell_type": "markdown",
   "id": "183a8263-9a51-4950-a1b1-40697856079b",
   "metadata": {},
   "source": [
    " "
   ]
  }
 ],
 "metadata": {
  "kernelspec": {
   "display_name": "projects",
   "language": "python",
   "name": "projects"
  },
  "language_info": {
   "codemirror_mode": {
    "name": "ipython",
    "version": 3
   },
   "file_extension": ".py",
   "mimetype": "text/x-python",
   "name": "python",
   "nbconvert_exporter": "python",
   "pygments_lexer": "ipython3",
   "version": "3.11.6"
  }
 },
 "nbformat": 4,
 "nbformat_minor": 5
}
