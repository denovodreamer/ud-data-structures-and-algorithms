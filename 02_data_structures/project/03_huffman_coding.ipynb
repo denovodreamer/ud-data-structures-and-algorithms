{
 "cells": [
  {
   "cell_type": "markdown",
   "id": "8bc83e74-12d3-4554-8be9-ff37e006200f",
   "metadata": {},
   "source": [
    " "
   ]
  },
  {
   "cell_type": "markdown",
   "id": "7e435e34-f9e3-42e8-846c-e29b9114b6f6",
   "metadata": {},
   "source": [
    " "
   ]
  },
  {
   "cell_type": "markdown",
   "id": "6f9a3bc5-62ae-4513-b30e-e1f25f55abc0",
   "metadata": {},
   "source": [
    " "
   ]
  },
  {
   "cell_type": "markdown",
   "id": "9c0b9d04-135e-4d60-b5b5-58a3a7df5260",
   "metadata": {},
   "source": [
    " "
   ]
  },
  {
   "cell_type": "code",
   "execution_count": null,
   "id": "328ec190-8824-4e26-859f-0391273ac666",
   "metadata": {},
   "outputs": [],
   "source": [
    "\n",
    "message = \"AAAAAAABBBCCCCCCCDDEEEEEE\"\n",
    "\n",
    "\n",
    "# TODO efficiency could be improved\n",
    "def count_frequencies(message):\n",
    "    frequencies = {}\n",
    "    for character in message:\n",
    "        if character not in frequencies:\n",
    "            frequencies[character] = 1\n",
    "        else:\n",
    "            frequencies[character] += 1\n",
    "    return frequencies\n",
    "\n",
    "# Stores a character and its frequency\n",
    "class Character:\n",
    "    def __init__(self, character, freq):\n",
    "        self.character = character\n",
    "        self.freq = freq\n",
    "\n",
    "\n"
   ]
  },
  {
   "cell_type": "markdown",
   "id": "5e374c9b-450b-4b5b-bd04-f9f1864d8dfd",
   "metadata": {},
   "source": [
    " "
   ]
  },
  {
   "cell_type": "markdown",
   "id": "22493634-cfb7-463e-bdad-03f47ef83a91",
   "metadata": {},
   "source": [
    " "
   ]
  },
  {
   "cell_type": "markdown",
   "id": "31b3471c-28a1-43b9-b60a-11cb426d9dfd",
   "metadata": {},
   "source": [
    " "
   ]
  },
  {
   "cell_type": "markdown",
   "id": "33aa1d3c-c1b3-4085-a338-10d8b0d00532",
   "metadata": {},
   "source": [
    " "
   ]
  },
  {
   "cell_type": "markdown",
   "id": "03b969b8-89a1-4416-96ed-360aa4f677ff",
   "metadata": {},
   "source": [
    " "
   ]
  },
  {
   "cell_type": "markdown",
   "id": "651bcb17-175a-47a7-a24e-ae4fcb6e6aa1",
   "metadata": {},
   "source": [
    " "
   ]
  },
  {
   "cell_type": "markdown",
   "id": "eb83fb7e-1c91-4b6d-9d63-2cb76f9a6edd",
   "metadata": {},
   "source": [
    " "
   ]
  },
  {
   "cell_type": "markdown",
   "id": "f92b893b-1732-47ae-9f55-dea24e838b13",
   "metadata": {},
   "source": [
    " "
   ]
  },
  {
   "cell_type": "markdown",
   "id": "c45c6c6e-3f67-4a6e-9d39-30bf627b643f",
   "metadata": {},
   "source": [
    " "
   ]
  },
  {
   "cell_type": "markdown",
   "id": "3d518d0c-a3f5-4b19-9dd3-f7124326feea",
   "metadata": {},
   "source": [
    " "
   ]
  },
  {
   "cell_type": "markdown",
   "id": "ff19c6d5-2df3-4c0a-ab94-ab0fe1621327",
   "metadata": {},
   "source": [
    " "
   ]
  },
  {
   "cell_type": "markdown",
   "id": "b0bf1776-23e7-4bb9-b0c6-b967fb219202",
   "metadata": {},
   "source": [
    " "
   ]
  },
  {
   "cell_type": "markdown",
   "id": "130632bb-caa7-4dfe-8cdf-bc47c47eb2a8",
   "metadata": {},
   "source": [
    " "
   ]
  },
  {
   "cell_type": "markdown",
   "id": "cdb93952-6db9-4a91-861a-61ce21b0e11a",
   "metadata": {},
   "source": [
    " "
   ]
  },
  {
   "cell_type": "markdown",
   "id": "183a8263-9a51-4950-a1b1-40697856079b",
   "metadata": {},
   "source": [
    " "
   ]
  }
 ],
 "metadata": {
  "kernelspec": {
   "display_name": "projects",
   "language": "python",
   "name": "projects"
  },
  "language_info": {
   "codemirror_mode": {
    "name": "ipython",
    "version": 3
   },
   "file_extension": ".py",
   "mimetype": "text/x-python",
   "name": "python",
   "nbconvert_exporter": "python",
   "pygments_lexer": "ipython3",
   "version": "3.11.6"
  }
 },
 "nbformat": 4,
 "nbformat_minor": 5
}
