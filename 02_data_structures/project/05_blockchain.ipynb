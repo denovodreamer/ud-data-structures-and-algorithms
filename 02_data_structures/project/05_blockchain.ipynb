{
 "cells": [
  {
   "cell_type": "markdown",
   "id": "d25fbcf6",
   "metadata": {},
   "source": [
    " "
   ]
  },
  {
   "cell_type": "markdown",
   "id": "c82df5de-7013-478c-8fa6-dce39ef90f1b",
   "metadata": {},
   "source": [
    " "
   ]
  },
  {
   "cell_type": "markdown",
   "id": "11382dd2-393d-49ce-9825-4b2c6afd9466",
   "metadata": {},
   "source": [
    " "
   ]
  },
  {
   "cell_type": "markdown",
   "id": "035f9932-54d5-4545-8ff6-77067a870e09",
   "metadata": {},
   "source": [
    "# Geek for geeks"
   ]
  },
  {
   "cell_type": "markdown",
   "id": "e98ef6ae-1f7c-4589-b443-ce94ab5ac1f4",
   "metadata": {},
   "source": [
    " "
   ]
  },
  {
   "cell_type": "markdown",
   "id": "e0262976-09de-41f3-8562-1cac9a64f924",
   "metadata": {},
   "source": [
    " "
   ]
  },
  {
   "cell_type": "markdown",
   "id": "aba82e75-9832-43d8-84ac-88c9df56655c",
   "metadata": {},
   "source": [
    "Blockchain is a time-stamped decentralized series of fixed records that contains data of any size is controlled by a large network of computers that are scattered around the globe and not owned by a single organization. Every block is secured and connected with each other using hashing technology which protects it from being tampered by an unauthorized person. \n",
    "\n",
    "\n",
    "Creating Blockchain using Python, mining new blocks, and displaying the whole blockchain: \n",
    "\n",
    "The data will be stored in JSON format which is very easy to implement and easy to read. The data is stored in a block and the block contains multiple data. Each and every minute multiple blocks are added and to differentiate one from the other we will use fingerprinting.\n",
    "The fingerprinting is done by using hash and to be particular we will use the SHA256 hashing algorithm. Every block will contain its own hash and also the hash of the previous function so that it cannot get tampered with.\n",
    "\n",
    "This fingerprinting will be used to chain the blocks together. Every block will be attached to the previous block having its hash and to the next block by giving its hash.\n",
    "\n",
    "\n",
    "The mining of the new block is done by giving successfully finding the answer to the proof of work. To make mining hard the proof of work must be hard enough to get exploited\n",
    "\n",
    "After mining the block successfully the block will then be added to the chain.\n",
    "\n",
    "After mining several blocks the validity of the chain must be checked in order to prevent any kind of tampering with the blockchain.\n",
    "Then the web app will be made by using Flask and deployed locally or publicly as per the need of the user."
   ]
  },
  {
   "cell_type": "markdown",
   "id": "98bfdf03-39c6-45d8-bcab-fc3d705e2f00",
   "metadata": {},
   "source": [
    " "
   ]
  },
  {
   "cell_type": "markdown",
   "id": "f11fa872-f66b-45e1-8792-dafba4b7f581",
   "metadata": {},
   "source": [
    " "
   ]
  },
  {
   "cell_type": "code",
   "execution_count": null,
   "id": "9460a54d-a080-48dc-8e85-00c6856b20cf",
   "metadata": {},
   "outputs": [],
   "source": [
    "# Python program to create Blockchain\n",
    "\n",
    "# For timestamp\n",
    "import datetime\n",
    "\n",
    "# Calculating the hash\n",
    "# in order to add digital\n",
    "# fingerprints to the blocks\n",
    "import hashlib\n",
    "\n",
    "# To store data\n",
    "# in our blockchain\n",
    "import json\n",
    "\n",
    "# Flask is for creating the web\n",
    "# app and jsonify is for\n",
    "# displaying the blockchain\n",
    "from flask import Flask, jsonify\n",
    "\n",
    "\n",
    "class Blockchain:\n",
    "\n",
    "\t# This function is created\n",
    "\t# to create the very first\n",
    "\t# block and set its hash to \"0\"\n",
    "\tdef __init__(self):\n",
    "\t\tself.chain = []\n",
    "\t\tself.create_block(proof=1, previous_hash='0')\n",
    "\n",
    "\t# This function is created\n",
    "\t# to add further blocks\n",
    "\t# into the chain\n",
    "\tdef create_block(self, proof, previous_hash):\n",
    "\t\tblock = {'index': len(self.chain) + 1,\n",
    "\t\t\t\t'timestamp': str(datetime.datetime.now()),\n",
    "\t\t\t\t'proof': proof,\n",
    "\t\t\t\t'previous_hash': previous_hash}\n",
    "\t\tself.chain.append(block)\n",
    "\t\treturn block\n",
    "\n",
    "\t# This function is created\n",
    "\t# to display the previous block\n",
    "\tdef print_previous_block(self):\n",
    "\t\treturn self.chain[-1]\n",
    "\n",
    "\t# This is the function for proof of work\n",
    "\t# and used to successfully mine the block\n",
    "\tdef proof_of_work(self, previous_proof):\n",
    "\t\tnew_proof = 1\n",
    "\t\tcheck_proof = False\n",
    "\n",
    "\t\twhile check_proof is False:\n",
    "\t\t\thash_operation = hashlib.sha256(\n",
    "\t\t\t\tstr(new_proof**2 - previous_proof**2).encode()).hexdigest()\n",
    "\t\t\tif hash_operation[:5] == '00000':\n",
    "\t\t\t\tcheck_proof = True\n",
    "\t\t\telse:\n",
    "\t\t\t\tnew_proof += 1\n",
    "\n",
    "\t\treturn new_proof\n",
    "\n",
    "\tdef hash(self, block):\n",
    "\t\tencoded_block = json.dumps(block, sort_keys=True).encode()\n",
    "\t\treturn hashlib.sha256(encoded_block).hexdigest()\n",
    "\n",
    "\tdef chain_valid(self, chain):\n",
    "\t\tprevious_block = chain[0]\n",
    "\t\tblock_index = 1\n",
    "\n",
    "\t\twhile block_index < len(chain):\n",
    "\t\t\tblock = chain[block_index]\n",
    "\t\t\tif block['previous_hash'] != self.hash(previous_block):\n",
    "\t\t\t\treturn False\n",
    "\n",
    "\t\t\tprevious_proof = previous_block['proof']\n",
    "\t\t\tproof = block['proof']\n",
    "\t\t\thash_operation = hashlib.sha256(\n",
    "\t\t\t\tstr(proof**2 - previous_proof**2).encode()).hexdigest()\n",
    "\n",
    "\t\t\tif hash_operation[:5] != '00000':\n",
    "\t\t\t\treturn False\n",
    "\t\t\tprevious_block = block\n",
    "\t\t\tblock_index += 1\n",
    "\n",
    "\t\treturn True\n",
    "\n"
   ]
  },
  {
   "cell_type": "markdown",
   "id": "dc956bd0-365f-4911-8b62-94bdb578322c",
   "metadata": {},
   "source": [
    " "
   ]
  },
  {
   "cell_type": "markdown",
   "id": "cea9b109-19b7-48ce-bf40-68aae59852ab",
   "metadata": {},
   "source": [
    " "
   ]
  },
  {
   "cell_type": "markdown",
   "id": "b323fbe1-6325-45d7-940c-58fb21ceefe5",
   "metadata": {},
   "source": [
    " "
   ]
  },
  {
   "cell_type": "markdown",
   "id": "61ff50a3-1bdc-48f5-a09f-5f0e8813f895",
   "metadata": {},
   "source": [
    " "
   ]
  },
  {
   "cell_type": "markdown",
   "id": "cf3d470c-d43b-4f18-82ea-20263fca05ca",
   "metadata": {},
   "source": [
    " "
   ]
  },
  {
   "cell_type": "markdown",
   "id": "50a0198c-a35e-4c0b-b787-e410c23e308d",
   "metadata": {},
   "source": [
    "# Solution"
   ]
  },
  {
   "cell_type": "markdown",
   "id": "cf78e50d-18c5-40ae-9d32-334e0643f73c",
   "metadata": {},
   "source": [
    " "
   ]
  },
  {
   "cell_type": "markdown",
   "id": "a8084758",
   "metadata": {},
   "source": [
    " "
   ]
  },
  {
   "cell_type": "code",
   "execution_count": 13,
   "id": "898e53c0",
   "metadata": {},
   "outputs": [],
   "source": [
    "import hashlib\n",
    "from datetime import datetime"
   ]
  },
  {
   "cell_type": "markdown",
   "id": "f7f24bdf",
   "metadata": {},
   "source": [
    " "
   ]
  },
  {
   "cell_type": "markdown",
   "id": "afe9d3e0",
   "metadata": {},
   "source": [
    " "
   ]
  },
  {
   "cell_type": "markdown",
   "id": "848d881e",
   "metadata": {},
   "source": [
    " "
   ]
  },
  {
   "cell_type": "markdown",
   "id": "c8159e22",
   "metadata": {},
   "source": [
    " "
   ]
  },
  {
   "cell_type": "code",
   "execution_count": 14,
   "id": "4b3da28f",
   "metadata": {},
   "outputs": [],
   "source": [
    "class Block:\n",
    "\n",
    "    def __init__(self, timestamp, data, previous_hash):\n",
    "        self.timestamp = timestamp\n",
    "        self.data = data\n",
    "        self.previous_hash = previous_hash\n",
    "        self.hash = self.calc_hash()\n",
    "        self.previous = None\n",
    "\n",
    "    def calc_hash(self):\n",
    "        sha = hashlib.sha256()\n",
    "\n",
    "        hash_str = \"\"\n",
    "        hash_str += str(self.timestamp)\n",
    "        hash_str += str(self.data)\n",
    "        hash_str += str(self.previous_hash)\n",
    "\n",
    "        sha.update(hash_str.encode('utf-8'))\n",
    "\n",
    "        return sha.hexdigest()"
   ]
  },
  {
   "cell_type": "markdown",
   "id": "5f12c01e",
   "metadata": {},
   "source": [
    " "
   ]
  },
  {
   "cell_type": "markdown",
   "id": "4706de58",
   "metadata": {},
   "source": [
    " "
   ]
  },
  {
   "cell_type": "markdown",
   "id": "b9c4c764",
   "metadata": {},
   "source": [
    " "
   ]
  },
  {
   "cell_type": "code",
   "execution_count": 15,
   "id": "25c63363",
   "metadata": {},
   "outputs": [],
   "source": [
    "class BlockChain:\n",
    "    def __init__(self):\n",
    "        self.tail = None\n",
    "\n",
    "    def add_block(self, data):\n",
    "        \n",
    "        timestamp = datetime.now().strftime('%Y-%m-%d %H:%M:%S')\n",
    "        \n",
    "        if self.tail is None:\n",
    "            previous_hash = \"0\"\n",
    "            self.tail = Block(timestamp, data, previous_hash)\n",
    "            return\n",
    "\n",
    "        last_block = self.tail\n",
    "        previous_hash = last_block.hash\n",
    "        \n",
    "        new_block = Block(timestamp, data, previous_hash)\n",
    "        new_block.previous = last_block\n",
    "        \n",
    "        self.tail = new_block\n",
    "\n"
   ]
  },
  {
   "cell_type": "markdown",
   "id": "1f7738b3",
   "metadata": {},
   "source": [
    " "
   ]
  },
  {
   "cell_type": "code",
   "execution_count": 16,
   "id": "23999c32",
   "metadata": {},
   "outputs": [],
   "source": [
    "block_chain = BlockChain()\n",
    "\n",
    "for i in range(3):\n",
    "    block_chain.add_block(f\"Data from block {i}!\")\n",
    "\n",
    "block_chain.tail.data"
   ]
  },
  {
   "cell_type": "markdown",
   "id": "bacafa54",
   "metadata": {},
   "source": [
    " "
   ]
  },
  {
   "cell_type": "code",
   "execution_count": 17,
   "id": "f65e3d72",
   "metadata": {},
   "outputs": [
    {
     "data": {
      "text/plain": [
       "'Data from block 2!'"
      ]
     },
     "execution_count": 17,
     "metadata": {},
     "output_type": "execute_result"
    }
   ],
   "source": [
    "block_chain.tail.data"
   ]
  },
  {
   "cell_type": "markdown",
   "id": "a566eefc",
   "metadata": {},
   "source": [
    " "
   ]
  },
  {
   "cell_type": "markdown",
   "id": "f0535edf",
   "metadata": {},
   "source": [
    " "
   ]
  },
  {
   "cell_type": "markdown",
   "id": "0fa3dba5",
   "metadata": {},
   "source": [
    " "
   ]
  },
  {
   "cell_type": "code",
   "execution_count": 21,
   "id": "ec635245",
   "metadata": {},
   "outputs": [
    {
     "data": {
      "text/plain": [
       "b'timestamp'"
      ]
     },
     "execution_count": 21,
     "metadata": {},
     "output_type": "execute_result"
    }
   ],
   "source": [
    "timestamp = datetime.now().strftime('%Y-%m-%d %H:%M:%S')\n",
    "str(\"timestamp\").encode('utf-8')"
   ]
  },
  {
   "cell_type": "markdown",
   "id": "b5a1de15",
   "metadata": {},
   "source": [
    " "
   ]
  },
  {
   "cell_type": "code",
   "execution_count": 5,
   "id": "229c8b1c",
   "metadata": {},
   "outputs": [
    {
     "data": {
      "text/plain": [
       "'a20200a94c75010576e2d6a83e6fa69271901a9d805894b28bd91e6054fbfd10'"
      ]
     },
     "execution_count": 5,
     "metadata": {},
     "output_type": "execute_result"
    }
   ],
   "source": [
    "from datetime import datetime\n",
    "\n",
    "timestamp = datetime.now()\n",
    "data = []\n",
    "previous_hash = None\n",
    "\n",
    "block_0 = Block(timestamp, data, previous_hash)\n",
    "\n",
    "block_0.hash"
   ]
  },
  {
   "cell_type": "markdown",
   "id": "c3702090",
   "metadata": {},
   "source": [
    " "
   ]
  },
  {
   "cell_type": "markdown",
   "id": "d5bdbdcc",
   "metadata": {},
   "source": [
    " "
   ]
  },
  {
   "cell_type": "markdown",
   "id": "6b36f9f4",
   "metadata": {},
   "source": [
    " "
   ]
  },
  {
   "cell_type": "markdown",
   "id": "ad2cdcf1",
   "metadata": {},
   "source": [
    " "
   ]
  },
  {
   "cell_type": "markdown",
   "id": "673ca6be",
   "metadata": {},
   "source": [
    " "
   ]
  },
  {
   "cell_type": "markdown",
   "id": "d20cfa38",
   "metadata": {},
   "source": [
    " "
   ]
  },
  {
   "cell_type": "markdown",
   "id": "fc919a46",
   "metadata": {},
   "source": [
    " "
   ]
  },
  {
   "cell_type": "markdown",
   "id": "86c3d653",
   "metadata": {},
   "source": [
    " "
   ]
  },
  {
   "cell_type": "markdown",
   "id": "8ddc9bba",
   "metadata": {},
   "source": [
    " "
   ]
  },
  {
   "cell_type": "markdown",
   "id": "007814b2",
   "metadata": {},
   "source": [
    " "
   ]
  },
  {
   "cell_type": "markdown",
   "id": "17ba4331",
   "metadata": {},
   "source": [
    " "
   ]
  },
  {
   "cell_type": "markdown",
   "id": "49abb255",
   "metadata": {},
   "source": [
    " "
   ]
  },
  {
   "cell_type": "markdown",
   "id": "39f58a26",
   "metadata": {},
   "source": [
    " "
   ]
  },
  {
   "cell_type": "markdown",
   "id": "73dcfa08",
   "metadata": {},
   "source": [
    " "
   ]
  },
  {
   "cell_type": "markdown",
   "id": "44a74d7e",
   "metadata": {},
   "source": [
    " "
   ]
  },
  {
   "cell_type": "markdown",
   "id": "515538f7",
   "metadata": {},
   "source": [
    " "
   ]
  },
  {
   "cell_type": "markdown",
   "id": "076d1c71",
   "metadata": {},
   "source": [
    " "
   ]
  },
  {
   "cell_type": "markdown",
   "id": "8341c290",
   "metadata": {},
   "source": [
    " "
   ]
  },
  {
   "cell_type": "markdown",
   "id": "d38cc2e9",
   "metadata": {},
   "source": [
    " "
   ]
  },
  {
   "cell_type": "markdown",
   "id": "1d49e830",
   "metadata": {},
   "source": [
    " "
   ]
  },
  {
   "cell_type": "markdown",
   "id": "a5d4c5e6",
   "metadata": {},
   "source": [
    " "
   ]
  },
  {
   "cell_type": "markdown",
   "id": "060ee878",
   "metadata": {},
   "source": [
    " "
   ]
  },
  {
   "cell_type": "markdown",
   "id": "fa2ac9d0",
   "metadata": {},
   "source": [
    " "
   ]
  },
  {
   "cell_type": "markdown",
   "id": "c776915f",
   "metadata": {},
   "source": [
    " "
   ]
  },
  {
   "cell_type": "markdown",
   "id": "49b8a42e",
   "metadata": {},
   "source": [
    " "
   ]
  },
  {
   "cell_type": "markdown",
   "id": "78b77b55",
   "metadata": {},
   "source": [
    " "
   ]
  },
  {
   "cell_type": "markdown",
   "id": "211a3d12",
   "metadata": {},
   "source": [
    " "
   ]
  },
  {
   "cell_type": "markdown",
   "id": "819efc3e",
   "metadata": {},
   "source": [
    " "
   ]
  },
  {
   "cell_type": "markdown",
   "id": "fc630305",
   "metadata": {},
   "source": [
    " "
   ]
  },
  {
   "cell_type": "markdown",
   "id": "469b45dd",
   "metadata": {},
   "source": [
    " "
   ]
  },
  {
   "cell_type": "markdown",
   "id": "2333188d",
   "metadata": {},
   "source": [
    " "
   ]
  },
  {
   "cell_type": "markdown",
   "id": "5204f48e",
   "metadata": {},
   "source": [
    " "
   ]
  },
  {
   "cell_type": "markdown",
   "id": "eccf28e8",
   "metadata": {},
   "source": [
    " "
   ]
  },
  {
   "cell_type": "markdown",
   "id": "c3ef47b7",
   "metadata": {},
   "source": [
    " "
   ]
  }
 ],
 "metadata": {
  "kernelspec": {
   "display_name": "Python 3 (ipykernel)",
   "language": "python",
   "name": "python3"
  },
  "language_info": {
   "codemirror_mode": {
    "name": "ipython",
    "version": 3
   },
   "file_extension": ".py",
   "mimetype": "text/x-python",
   "name": "python",
   "nbconvert_exporter": "python",
   "pygments_lexer": "ipython3",
   "version": "3.12.0"
  },
  "toc": {
   "base_numbering": 1,
   "nav_menu": {},
   "number_sections": true,
   "sideBar": true,
   "skip_h1_title": false,
   "title_cell": "Table of Contents",
   "title_sidebar": "Contents",
   "toc_cell": false,
   "toc_position": {
    "height": "calc(100% - 180px)",
    "left": "10px",
    "top": "150px",
    "width": "220px"
   },
   "toc_section_display": true,
   "toc_window_display": true
  }
 },
 "nbformat": 4,
 "nbformat_minor": 5
}
