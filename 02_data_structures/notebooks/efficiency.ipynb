{
 "cells": [
  {
   "cell_type": "markdown",
   "id": "fd6703a3",
   "metadata": {},
   "source": [
    " "
   ]
  },
  {
   "cell_type": "markdown",
   "id": "12a50032",
   "metadata": {},
   "source": [
    " "
   ]
  },
  {
   "cell_type": "markdown",
   "id": "82070030",
   "metadata": {},
   "source": [
    " "
   ]
  },
  {
   "cell_type": "markdown",
   "id": "0f7c75b3",
   "metadata": {},
   "source": [
    " "
   ]
  },
  {
   "cell_type": "markdown",
   "id": "99b00a5a",
   "metadata": {},
   "source": [
    " "
   ]
  },
  {
   "cell_type": "code",
   "execution_count": 17,
   "id": "842371f1",
   "metadata": {},
   "outputs": [],
   "source": [
    "import matplotlib.pyplot as plt"
   ]
  },
  {
   "cell_type": "markdown",
   "id": "04a82744",
   "metadata": {},
   "source": [
    " "
   ]
  },
  {
   "cell_type": "markdown",
   "id": "fbc3dc6d",
   "metadata": {},
   "source": [
    " "
   ]
  },
  {
   "cell_type": "markdown",
   "id": "1c085c06",
   "metadata": {},
   "source": [
    " "
   ]
  },
  {
   "cell_type": "markdown",
   "id": "1d5c6079",
   "metadata": {},
   "source": [
    " "
   ]
  },
  {
   "cell_type": "markdown",
   "id": "0e009970",
   "metadata": {},
   "source": [
    " "
   ]
  },
  {
   "cell_type": "markdown",
   "id": "093e3542",
   "metadata": {},
   "source": [
    "# Execution Time"
   ]
  },
  {
   "cell_type": "markdown",
   "id": "5a3b4976",
   "metadata": {},
   "source": [
    " "
   ]
  },
  {
   "cell_type": "markdown",
   "id": "00ae8cd5",
   "metadata": {},
   "source": [
    " "
   ]
  },
  {
   "cell_type": "code",
   "execution_count": 43,
   "id": "dedc4b16",
   "metadata": {},
   "outputs": [],
   "source": [
    "import functools\n",
    "import time\n",
    "\n",
    "def timer(func):\n",
    "    \"\"\"Print the runtime of the decorated function\"\"\"\n",
    "    @functools.wraps(func)\n",
    "    def wrapper_timer(*args, **kwargs):\n",
    "        start_time = time.perf_counter()    \n",
    "        value = func(*args, **kwargs)\n",
    "        end_time = time.perf_counter()    \n",
    "        run_time = end_time - start_time  \n",
    "#         print(f\"Finished {func.__name__!r} in {run_time:.4f} secs\")\n",
    "        return run_time # value\n",
    "    return wrapper_timer"
   ]
  },
  {
   "cell_type": "markdown",
   "id": "77270c1f",
   "metadata": {},
   "source": [
    " "
   ]
  },
  {
   "cell_type": "markdown",
   "id": "20a4bc6e",
   "metadata": {},
   "source": [
    " "
   ]
  },
  {
   "cell_type": "markdown",
   "id": "d1b01006",
   "metadata": {},
   "source": [
    " "
   ]
  },
  {
   "cell_type": "code",
   "execution_count": 4,
   "id": "f487f669",
   "metadata": {},
   "outputs": [
    {
     "data": {
      "text/plain": [
       "0.00124889996368438"
      ]
     },
     "execution_count": 4,
     "metadata": {},
     "output_type": "execute_result"
    }
   ],
   "source": [
    "@timer\n",
    "def waste_some_time(num_times):\n",
    "    for _ in range(num_times):\n",
    "        sum([i**2 for i in range(10000)])\n",
    "\n",
    "waste_some_time(1)"
   ]
  },
  {
   "cell_type": "markdown",
   "id": "d6387813",
   "metadata": {},
   "source": [
    " "
   ]
  },
  {
   "cell_type": "markdown",
   "id": "eb2fe9c5",
   "metadata": {},
   "source": [
    " "
   ]
  },
  {
   "cell_type": "markdown",
   "id": "99eb1762",
   "metadata": {},
   "source": [
    " "
   ]
  },
  {
   "cell_type": "markdown",
   "id": "0676daa8",
   "metadata": {},
   "source": [
    " "
   ]
  },
  {
   "cell_type": "markdown",
   "id": "71b7c634",
   "metadata": {},
   "source": [
    " "
   ]
  },
  {
   "cell_type": "markdown",
   "id": "385a3292",
   "metadata": {},
   "source": [
    " "
   ]
  },
  {
   "cell_type": "markdown",
   "id": "4c076851",
   "metadata": {},
   "source": [
    "# Python List Insertion"
   ]
  },
  {
   "cell_type": "markdown",
   "id": "3aac9594",
   "metadata": {},
   "source": [
    " "
   ]
  },
  {
   "cell_type": "code",
   "execution_count": 45,
   "id": "270ae24f",
   "metadata": {},
   "outputs": [
    {
     "name": "stdout",
     "output_type": "stream",
     "text": [
      "2.100015990436077e-06\n",
      "8.330005221068859e-05\n",
      "0.00026760005857795477\n",
      "0.0005821001250296831\n",
      "0.001088700140826404\n",
      "0.0014529001200571656\n",
      "0.0020215001422911882\n",
      "0.002529700053855777\n",
      "0.0030891000060364604\n",
      "0.003692000056616962\n",
      "0.004609600058756769\n",
      "0.005427800118923187\n",
      "0.006258800160139799\n",
      "0.007149400073103607\n",
      "0.008119700010865927\n",
      "0.0091594000114128\n",
      "0.010263800038956106\n",
      "0.011438600020483136\n",
      "0.012677900027483702\n",
      "0.013986000092700124\n",
      "0.01537620008457452\n",
      "0.017207000055350363\n",
      "0.019367400091141462\n",
      "0.02099740004632622\n",
      "0.023261600057594478\n",
      "0.025157100055366755\n",
      "0.026961500057950616\n",
      "0.02890729997307062\n",
      "0.030837500002235174\n",
      "0.03283659997396171\n",
      "0.035188799956813455\n",
      "0.03748419997282326\n",
      "0.04123710002750158\n",
      "0.04406290000770241\n",
      "0.046598699991591275\n",
      "0.04936259996611625\n",
      "0.05308249988593161\n",
      "0.056591699831187725\n",
      "0.059520699782297015\n",
      "0.06258329981938004\n",
      "0.06557359988801181\n",
      "0.06846639979630709\n",
      "0.07149849971756339\n",
      "0.07455259968992323\n",
      "0.07941319979727268\n",
      "0.08380899974144995\n",
      "0.08946439973078668\n",
      "0.09281789977103472\n",
      "0.09620899974834174\n",
      "0.09993649972602725\n",
      "0.10364909970667213\n",
      "0.10731079976540059\n",
      "0.11175809986889362\n",
      "0.11565739987418056\n",
      "0.12292879982851446\n",
      "0.12786159990355372\n",
      "0.13224119984079152\n",
      "0.13879299978725612\n",
      "0.14442159980535507\n",
      "0.14934199978597462\n",
      "0.1537135997787118\n",
      "0.15825179975945503\n",
      "0.16417389968410134\n",
      "0.16876609972678125\n",
      "0.17339929973240942\n",
      "0.18072439974639565\n",
      "0.18551049975212663\n",
      "0.1904491997556761\n",
      "0.1958762997528538\n",
      "0.20304369973018765\n",
      "0.20827179972548038\n",
      "0.21381429967004806\n",
      "0.21953319967724383\n",
      "0.22523819969501346\n",
      "0.23089169966988266\n",
      "0.23885829967912287\n",
      "0.2448122997302562\n",
      "0.25101009965874255\n",
      "0.25677559967152774\n",
      "0.26390529971104115\n",
      "0.2700247996253893\n",
      "0.27816939959302545\n",
      "0.28948799963109195\n",
      "0.3009908995591104\n",
      "0.31109559955075383\n",
      "0.3185602994635701\n"
     ]
    },
    {
     "ename": "KeyboardInterrupt",
     "evalue": "",
     "output_type": "error",
     "traceback": [
      "\u001b[1;31m---------------------------------------------------------------------------\u001b[0m",
      "\u001b[1;31mKeyboardInterrupt\u001b[0m                         Traceback (most recent call last)",
      "Cell \u001b[1;32mIn[45], line 19\u001b[0m\n\u001b[0;32m     17\u001b[0m times \u001b[38;5;241m=\u001b[39m []\n\u001b[0;32m     18\u001b[0m \u001b[38;5;28;01mfor\u001b[39;00m n \u001b[38;5;129;01min\u001b[39;00m \u001b[38;5;28mrange\u001b[39m(\u001b[38;5;241m1\u001b[39m, \u001b[38;5;241m10000000\u001b[39m, \u001b[38;5;241m100000\u001b[39m):\n\u001b[1;32m---> 19\u001b[0m     times\u001b[38;5;241m.\u001b[39mappend(\u001b[43mtest_insertion\u001b[49m\u001b[43m(\u001b[49m\u001b[43mn\u001b[49m\u001b[43m)\u001b[49m)\n\u001b[0;32m     20\u001b[0m     \u001b[38;5;28mprint\u001b[39m(\u001b[38;5;28msum\u001b[39m(times))\n\u001b[0;32m     23\u001b[0m \u001b[38;5;66;03m# times = [test_insertion(n) for n in range(1, 10000000, 100000)]\u001b[39;00m\n",
      "Cell \u001b[1;32mIn[45], line 11\u001b[0m, in \u001b[0;36mtest_insertion\u001b[1;34m(list_length)\u001b[0m\n\u001b[0;32m      8\u001b[0m value \u001b[38;5;241m=\u001b[39m \u001b[38;5;241m3\u001b[39m\n\u001b[0;32m      9\u001b[0m pos \u001b[38;5;241m=\u001b[39m \u001b[38;5;241m0\u001b[39m \u001b[38;5;66;03m# int(list_length/2)\u001b[39;00m\n\u001b[1;32m---> 11\u001b[0m time \u001b[38;5;241m=\u001b[39m \u001b[43minsertion\u001b[49m\u001b[43m(\u001b[49m\u001b[43mlst\u001b[49m\u001b[43m,\u001b[49m\u001b[43m \u001b[49m\u001b[43mvalue\u001b[49m\u001b[43m,\u001b[49m\u001b[43m \u001b[49m\u001b[43mpos\u001b[49m\u001b[43m)\u001b[49m\n\u001b[0;32m     13\u001b[0m \u001b[38;5;28;01mreturn\u001b[39;00m time\n",
      "Cell \u001b[1;32mIn[43], line 6\u001b[0m, in \u001b[0;36mtimer.<locals>.wrapper_timer\u001b[1;34m(*args, **kwargs)\u001b[0m\n\u001b[0;32m      4\u001b[0m \u001b[38;5;28;01mdef\u001b[39;00m \u001b[38;5;21mtimer\u001b[39m(func):\n\u001b[0;32m      5\u001b[0m \u001b[38;5;250m    \u001b[39m\u001b[38;5;124;03m\"\"\"Print the runtime of the decorated function\"\"\"\u001b[39;00m\n\u001b[1;32m----> 6\u001b[0m     \u001b[38;5;129m@functools\u001b[39m\u001b[38;5;241m.\u001b[39mwraps(func)\n\u001b[0;32m      7\u001b[0m     \u001b[38;5;28;01mdef\u001b[39;00m \u001b[38;5;21mwrapper_timer\u001b[39m(\u001b[38;5;241m*\u001b[39margs, \u001b[38;5;241m*\u001b[39m\u001b[38;5;241m*\u001b[39mkwargs):\n\u001b[0;32m      8\u001b[0m         start_time \u001b[38;5;241m=\u001b[39m time\u001b[38;5;241m.\u001b[39mperf_counter()    \n\u001b[0;32m      9\u001b[0m         value \u001b[38;5;241m=\u001b[39m func(\u001b[38;5;241m*\u001b[39margs, \u001b[38;5;241m*\u001b[39m\u001b[38;5;241m*\u001b[39mkwargs)\n",
      "\u001b[1;31mKeyboardInterrupt\u001b[0m: "
     ]
    }
   ],
   "source": [
    "\n",
    "\n",
    "\n",
    "@timer\n",
    "def insertion(lst, value, pos):\n",
    "    lst.insert(pos, value)\n",
    "\n",
    "def test_insertion(list_length):\n",
    "    lst = list(range(list_length))\n",
    "    \n",
    "    value = 3\n",
    "    pos = 0 # int(list_length/2)\n",
    "    \n",
    "    time = insertion(lst, value, pos)\n",
    "    \n",
    "    return time\n",
    "\n",
    "\n",
    "\n",
    "times = []\n",
    "for n in range(1, 10000000, 100000):\n",
    "    times.append(test_insertion(n))\n",
    "    print(sum(times))\n",
    "    \n",
    "    \n",
    "# times = [test_insertion(n) for n in range(1, 10000000, 100000)]\n",
    "\n",
    "plt.plot(times)"
   ]
  },
  {
   "cell_type": "markdown",
   "id": "b49b8d87",
   "metadata": {},
   "source": [
    " "
   ]
  },
  {
   "cell_type": "markdown",
   "id": "dc867b3c",
   "metadata": {},
   "source": [
    " "
   ]
  },
  {
   "cell_type": "markdown",
   "id": "8be67c41",
   "metadata": {},
   "source": [
    " "
   ]
  },
  {
   "cell_type": "code",
   "execution_count": 40,
   "id": "4ec160b9",
   "metadata": {},
   "outputs": [
    {
     "data": {
      "text/plain": [
       "0.3976023991126567"
      ]
     },
     "execution_count": 40,
     "metadata": {},
     "output_type": "execute_result"
    }
   ],
   "source": [
    "sum(times)"
   ]
  },
  {
   "cell_type": "markdown",
   "id": "0c4a7d54",
   "metadata": {},
   "source": [
    " "
   ]
  },
  {
   "cell_type": "markdown",
   "id": "a6ba96db",
   "metadata": {},
   "source": [
    " "
   ]
  },
  {
   "cell_type": "markdown",
   "id": "061d3a79",
   "metadata": {},
   "source": [
    " "
   ]
  },
  {
   "cell_type": "markdown",
   "id": "8c48a922",
   "metadata": {},
   "source": [
    "# Linked List"
   ]
  },
  {
   "cell_type": "markdown",
   "id": "f38bd8b4",
   "metadata": {},
   "source": [
    " "
   ]
  },
  {
   "cell_type": "code",
   "execution_count": 8,
   "id": "490329a4",
   "metadata": {},
   "outputs": [],
   "source": [
    "\n",
    "\n",
    "class Node:\n",
    "    def __init__(self, value):\n",
    "        self.value = value\n",
    "        self.next = None\n",
    "\n",
    "\n",
    "class LinkedList:\n",
    "    def __init__(self):\n",
    "        self.head = None\n",
    "\n",
    "    def from_list(self, input_list):\n",
    "\n",
    "        head = None\n",
    "        tail = None\n",
    "\n",
    "        for value in input_list:\n",
    "\n",
    "            if head is None:\n",
    "                head = Node(value)\n",
    "                tail = head # when we only have 1 node, head and tail refer to the same node\n",
    "            else:\n",
    "                tail.next = Node(value) # attach the new node to the `next` of tail\n",
    "                tail = tail.next # update the tail\n",
    "\n",
    "        self.head = head\n",
    "        \n",
    "        return\n",
    "\n",
    "    def to_list(self):\n",
    "        out = []\n",
    "        node = self.head\n",
    "        while node:\n",
    "            out.append(node.value)\n",
    "            node = node.next\n",
    "        return out\n",
    "    \n",
    "    def prepend(self, value):\n",
    "        \"\"\" Prepend a node to the beginning of the list \"\"\"\n",
    "\n",
    "        if self.head is None:\n",
    "            self.head = Node(value)\n",
    "            return\n",
    "\n",
    "        new_head = Node(value)\n",
    "        new_head.next = self.head\n",
    "        self.head = new_head\n",
    "\n",
    "    def append(self, value):\n",
    "        \"\"\" Append a node to the end of the list \"\"\"\n",
    "        # Here I'm not keeping track of the tail. It's possible to store the tail\n",
    "        # as well as the head, which makes appending like this an O(1) operation.\n",
    "        # Otherwise, it's an O(N) operation as you have to iterate through the\n",
    "        # entire list to add a new tail.\n",
    "\n",
    "        if self.head is None:\n",
    "            self.head = Node(value)\n",
    "            return\n",
    "\n",
    "        node = self.head\n",
    "        while node.next:\n",
    "            node = node.next\n",
    "\n",
    "        node.next = Node(value)\n",
    "\n",
    "    def search(self, value):\n",
    "        \"\"\" Search the linked list for a node with the requested value and return the node. \"\"\"\n",
    "        if self.head is None:\n",
    "            return None\n",
    "\n",
    "        node = self.head\n",
    "        while node:\n",
    "            if node.value == value:\n",
    "                return node\n",
    "            node = node.next\n",
    "\n",
    "        raise ValueError(\"Value not found in the list.\")\n",
    "\n",
    "\n",
    "    def remove(self, value):\n",
    "        \"\"\" Delete the first node with the desired data. \"\"\"\n",
    "        if self.head is None:\n",
    "            return\n",
    "\n",
    "        if self.head.value == value:\n",
    "            self.head = self.head.next\n",
    "            return\n",
    "\n",
    "        node = self.head\n",
    "        while node.next:\n",
    "            if node.next.value == value:\n",
    "                node.next = node.next.next\n",
    "                return\n",
    "            node = node.next\n",
    "\n",
    "        raise ValueError(\"Value not found in the list.\")\n",
    "\n",
    "    def pop(self):\n",
    "        \"\"\" Return the first node's value and remove it from the list. \"\"\"\n",
    "        if self.head is None:\n",
    "            return None\n",
    "\n",
    "        node = self.head\n",
    "        self.head = self.head.next\n",
    "\n",
    "        return node.value\n",
    "\n",
    "    def insert(self, value, pos):\n",
    "        \"\"\" Insert value at pos position in the list. If pos is larger than the\n",
    "            length of the list, append to the end of the list. \"\"\"\n",
    "        # If the list is empty \n",
    "        if self.head is None:\n",
    "            self.head = Node(value)\n",
    "            return\n",
    "            \n",
    "        if pos == 0:\n",
    "            self.prepend(value)\n",
    "            return\n",
    "\n",
    "        index = 0\n",
    "        node = self.head\n",
    "        while node.next and index <= pos:\n",
    "            if (pos - 1) == index:\n",
    "                new_node = Node(value)\n",
    "                new_node.next = node.next\n",
    "                node.next = new_node\n",
    "                return\n",
    "\n",
    "            index += 1\n",
    "            node = node.next\n",
    "        else:\n",
    "            self.append(value)\n",
    "\n",
    "    def size(self):\n",
    "        \"\"\" Return the size or length of the linked list. \"\"\"\n",
    "        size = 0\n",
    "        node = self.head\n",
    "        while node:\n",
    "            size += 1\n",
    "            node = node.next\n",
    "\n",
    "        return size\n",
    "\n",
    "    def to_list(self):\n",
    "        out = []\n",
    "        node = self.head\n",
    "        while node:\n",
    "            out.append(node.value)\n",
    "            node = node.next\n",
    "        return out\n",
    "    \n",
    "    def __iter__(self):\n",
    "        node = self.head\n",
    "        while node:\n",
    "            yield node.value\n",
    "            node = node.next\n",
    "            \n",
    "    def __repr__(self):\n",
    "        return str([v for v in self])\n"
   ]
  },
  {
   "cell_type": "markdown",
   "id": "e143a248",
   "metadata": {},
   "source": [
    " "
   ]
  },
  {
   "cell_type": "markdown",
   "id": "a71274e7",
   "metadata": {},
   "source": [
    " "
   ]
  },
  {
   "cell_type": "markdown",
   "id": "f60d2339",
   "metadata": {},
   "source": [
    " "
   ]
  },
  {
   "cell_type": "markdown",
   "id": "09d6bad5",
   "metadata": {},
   "source": [
    " "
   ]
  },
  {
   "cell_type": "markdown",
   "id": "1f014243",
   "metadata": {},
   "source": [
    " "
   ]
  },
  {
   "cell_type": "code",
   "execution_count": 10,
   "id": "4414cc1a",
   "metadata": {},
   "outputs": [
    {
     "data": {
      "text/plain": [
       "[5, 4, 3, 2]"
      ]
     },
     "execution_count": 10,
     "metadata": {},
     "output_type": "execute_result"
    }
   ],
   "source": [
    "linked_list = LinkedList()\n",
    "\n",
    "linked_list.from_list([5, 4, 3, 2])\n",
    "\n",
    "linked_list.to_list()"
   ]
  },
  {
   "cell_type": "markdown",
   "id": "b9d1750b",
   "metadata": {},
   "source": [
    " "
   ]
  },
  {
   "cell_type": "markdown",
   "id": "73c24432",
   "metadata": {},
   "source": [
    " "
   ]
  },
  {
   "cell_type": "markdown",
   "id": "f314002a",
   "metadata": {},
   "source": [
    " "
   ]
  },
  {
   "cell_type": "code",
   "execution_count": 44,
   "id": "93fd35dc",
   "metadata": {},
   "outputs": [
    {
     "name": "stdout",
     "output_type": "stream",
     "text": [
      "8.79995059221983e-06\n",
      "1.4199875295162201e-05\n",
      "1.989991869777441e-05\n",
      "2.629996743053198e-05\n",
      "3.429991193115711e-05\n",
      "4.650000482797623e-05\n",
      "5.559995770454407e-05\n",
      "6.330001633614302e-05\n",
      "7.040007039904594e-05\n",
      "7.680011913180351e-05\n",
      "8.410005830228329e-05\n",
      "9.220011997967958e-05\n",
      "0.00010250008199363947\n",
      "0.00011010013986378908\n",
      "0.00011880008969455957\n",
      "0.00012840016279369593\n",
      "0.0001356002176180482\n",
      "0.00014410016592592\n",
      "0.0001512001035735011\n",
      "0.0001590001629665494\n",
      "0.0001672001089900732\n",
      "0.00017540017142891884\n",
      "0.00018230010755360126\n",
      "0.00018900015857070684\n",
      "0.00019710010383278131\n",
      "0.00020600005518645048\n",
      "0.00021570001263171434\n",
      "0.00022379995789378881\n",
      "0.00023099989630281925\n",
      "0.00023949984461069107\n",
      "0.0002468997845426202\n",
      "0.00025469972752034664\n",
      "0.0002629996743053198\n",
      "0.00026999961119145155\n",
      "0.0002796995686367154\n",
      "0.0003406995674595237\n",
      "0.00034719950053840876\n",
      "0.00035479955840855837\n",
      "0.0003648995188996196\n",
      "0.00037489947862923145\n",
      "0.0003839994315057993\n",
      "0.00039289938285946846\n",
      "0.0004005993250757456\n",
      "0.0004101992817595601\n",
      "0.00043969927355647087\n",
      "0.0004546992713585496\n",
      "0.0004630993353202939\n",
      "0.0004714992828667164\n",
      "0.00047989923041313887\n",
      "0.0004907991969957948\n",
      "0.0004993992624804378\n",
      "0.0005073993233963847\n",
      "0.0005168993957340717\n",
      "0.000524099450558424\n",
      "0.0005323993973433971\n",
      "0.0005427993601188064\n",
      "0.0005512993084266782\n",
      "0.0005585993640124798\n",
      "0.0005668993107974529\n",
      "0.0005734993610531092\n",
      "0.0005807994166389108\n",
      "0.0005892994813621044\n"
     ]
    },
    {
     "ename": "KeyboardInterrupt",
     "evalue": "",
     "output_type": "error",
     "traceback": [
      "\u001b[1;31m---------------------------------------------------------------------------\u001b[0m",
      "\u001b[1;31mKeyboardInterrupt\u001b[0m                         Traceback (most recent call last)",
      "Cell \u001b[1;32mIn[44], line 18\u001b[0m\n\u001b[0;32m     16\u001b[0m times \u001b[38;5;241m=\u001b[39m []\n\u001b[0;32m     17\u001b[0m \u001b[38;5;28;01mfor\u001b[39;00m n \u001b[38;5;129;01min\u001b[39;00m \u001b[38;5;28mrange\u001b[39m(\u001b[38;5;241m1\u001b[39m, \u001b[38;5;241m10000000\u001b[39m, \u001b[38;5;241m100000\u001b[39m):\n\u001b[1;32m---> 18\u001b[0m     times\u001b[38;5;241m.\u001b[39mappend(\u001b[43mtest_insertion\u001b[49m\u001b[43m(\u001b[49m\u001b[43mn\u001b[49m\u001b[43m)\u001b[49m)\n\u001b[0;32m     19\u001b[0m     \u001b[38;5;28mprint\u001b[39m(\u001b[38;5;28msum\u001b[39m(times))\n\u001b[0;32m     21\u001b[0m \u001b[38;5;66;03m# times = [test_insertion(n) for n in range(1, 10000000, 100000)]\u001b[39;00m\n",
      "Cell \u001b[1;32mIn[44], line 12\u001b[0m, in \u001b[0;36mtest_insertion\u001b[1;34m(list_length)\u001b[0m\n\u001b[0;32m      9\u001b[0m value \u001b[38;5;241m=\u001b[39m \u001b[38;5;241m3\u001b[39m\n\u001b[0;32m     10\u001b[0m pos \u001b[38;5;241m=\u001b[39m \u001b[38;5;241m0\u001b[39m \u001b[38;5;66;03m#int(list_length/2)\u001b[39;00m\n\u001b[1;32m---> 12\u001b[0m time \u001b[38;5;241m=\u001b[39m \u001b[43minsertion\u001b[49m\u001b[43m(\u001b[49m\u001b[43mlinked_list\u001b[49m\u001b[43m,\u001b[49m\u001b[43m \u001b[49m\u001b[43mvalue\u001b[49m\u001b[43m,\u001b[49m\u001b[43m \u001b[49m\u001b[43mpos\u001b[49m\u001b[43m)\u001b[49m\n\u001b[0;32m     14\u001b[0m \u001b[38;5;28;01mreturn\u001b[39;00m time\n",
      "Cell \u001b[1;32mIn[43], line 8\u001b[0m, in \u001b[0;36mtimer.<locals>.wrapper_timer\u001b[1;34m(*args, **kwargs)\u001b[0m\n\u001b[0;32m      6\u001b[0m \u001b[38;5;129m@functools\u001b[39m\u001b[38;5;241m.\u001b[39mwraps(func)\n\u001b[0;32m      7\u001b[0m \u001b[38;5;28;01mdef\u001b[39;00m \u001b[38;5;21mwrapper_timer\u001b[39m(\u001b[38;5;241m*\u001b[39margs, \u001b[38;5;241m*\u001b[39m\u001b[38;5;241m*\u001b[39mkwargs):\n\u001b[1;32m----> 8\u001b[0m     start_time \u001b[38;5;241m=\u001b[39m \u001b[43mtime\u001b[49m\u001b[38;5;241;43m.\u001b[39;49m\u001b[43mperf_counter\u001b[49m\u001b[43m(\u001b[49m\u001b[43m)\u001b[49m    \n\u001b[0;32m      9\u001b[0m     value \u001b[38;5;241m=\u001b[39m func(\u001b[38;5;241m*\u001b[39margs, \u001b[38;5;241m*\u001b[39m\u001b[38;5;241m*\u001b[39mkwargs)\n\u001b[0;32m     10\u001b[0m     end_time \u001b[38;5;241m=\u001b[39m time\u001b[38;5;241m.\u001b[39mperf_counter()    \n",
      "\u001b[1;31mKeyboardInterrupt\u001b[0m: "
     ]
    }
   ],
   "source": [
    "\n",
    "@timer\n",
    "def insertion(linked_list, value, pos):\n",
    "    linked_list.insert(value, pos)\n",
    "\n",
    "def test_insertion(list_length):\n",
    "    l = list(range(list_length))\n",
    "    linked_list.from_list(l)\n",
    "    \n",
    "    value = 3\n",
    "    pos = 0 #int(list_length/2)\n",
    "    \n",
    "    time = insertion(linked_list, value, pos)\n",
    "    \n",
    "    return time\n",
    "\n",
    "times = []\n",
    "for n in range(1, 10000000, 100000):\n",
    "    times.append(test_insertion(n))\n",
    "    print(sum(times))\n",
    "    \n",
    "# times = [test_insertion(n) for n in range(1, 10000000, 100000)]\n",
    "\n",
    "plt.plot(times)"
   ]
  },
  {
   "cell_type": "markdown",
   "id": "f1999cbe",
   "metadata": {},
   "source": [
    " "
   ]
  },
  {
   "cell_type": "markdown",
   "id": "e29769f0",
   "metadata": {},
   "source": [
    " "
   ]
  },
  {
   "cell_type": "markdown",
   "id": "74c4cbae",
   "metadata": {},
   "source": [
    " "
   ]
  },
  {
   "cell_type": "markdown",
   "id": "c08a3277",
   "metadata": {},
   "source": [
    " "
   ]
  },
  {
   "cell_type": "code",
   "execution_count": null,
   "id": "b6ba4531",
   "metadata": {},
   "outputs": [],
   "source": [
    "sum(times)"
   ]
  },
  {
   "cell_type": "markdown",
   "id": "12485a2d",
   "metadata": {},
   "source": [
    " "
   ]
  },
  {
   "cell_type": "markdown",
   "id": "8b177a24",
   "metadata": {},
   "source": [
    " "
   ]
  },
  {
   "cell_type": "markdown",
   "id": "2c13e3d5",
   "metadata": {},
   "source": [
    " "
   ]
  },
  {
   "cell_type": "markdown",
   "id": "521498d5",
   "metadata": {},
   "source": [
    " "
   ]
  },
  {
   "cell_type": "markdown",
   "id": "4b21f63d",
   "metadata": {},
   "source": [
    " "
   ]
  },
  {
   "cell_type": "markdown",
   "id": "d64231f4",
   "metadata": {},
   "source": [
    " "
   ]
  },
  {
   "cell_type": "markdown",
   "id": "61b87a98",
   "metadata": {},
   "source": [
    " "
   ]
  },
  {
   "cell_type": "markdown",
   "id": "d36c1668",
   "metadata": {},
   "source": [
    " "
   ]
  }
 ],
 "metadata": {
  "kernelspec": {
   "display_name": "Python 3 (ipykernel)",
   "language": "python",
   "name": "python3"
  },
  "language_info": {
   "codemirror_mode": {
    "name": "ipython",
    "version": 3
   },
   "file_extension": ".py",
   "mimetype": "text/x-python",
   "name": "python",
   "nbconvert_exporter": "python",
   "pygments_lexer": "ipython3",
   "version": "3.11.5"
  },
  "toc": {
   "base_numbering": 1,
   "nav_menu": {},
   "number_sections": true,
   "sideBar": true,
   "skip_h1_title": false,
   "title_cell": "Table of Contents",
   "title_sidebar": "Contents",
   "toc_cell": false,
   "toc_position": {
    "height": "743px",
    "left": "27px",
    "top": "111.125px",
    "width": "169px"
   },
   "toc_section_display": true,
   "toc_window_display": true
  }
 },
 "nbformat": 4,
 "nbformat_minor": 5
}
