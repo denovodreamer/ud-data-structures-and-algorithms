{
 "cells": [
  {
   "cell_type": "markdown",
   "metadata": {},
   "source": [
    "# Building a Trie in Python\n",
    "\n",
    "Before we start let us reiterate the key components of a Trie or Prefix Tree. A trie is a tree-like data structure that stores a dynamic set of strings. Tries are commonly used to facilitate operations like predictive text or autocomplete features on mobile phones or web search.\n",
    "\n",
    "Before we move into the autocomplete function we need to create a working trie for storing strings.  We will create two classes:\n",
    "* A `Trie` class that contains the root node (empty string)\n",
    "* A `TrieNode` class that exposes the general functionality of the Trie, like inserting a word or finding the node which represents a prefix.\n",
    "\n",
    "Give it a try by implementing the `TrieNode` and `Trie` classes below!"
   ]
  },
  {
   "cell_type": "code",
   "execution_count": 11,
   "metadata": {},
   "outputs": [
    {
     "name": "stdout",
     "output_type": "stream",
     "text": [
      "True\n"
     ]
    },
    {
     "data": {
      "text/plain": [
       "['b', 's', 'w']"
      ]
     },
     "execution_count": 11,
     "metadata": {},
     "output_type": "execute_result"
    }
   ],
   "source": [
    "## Represents a single node in the Trie\n",
    "class TrieNode:\n",
    "    def __init__(self):\n",
    "        ## Initialize this node in the Trie\n",
    "        self.is_word = False\n",
    "        self.children = {}\n",
    "    \n",
    "    def insert(self, char):\n",
    "        ## Add a child node in this Trie\n",
    "        if char not in self.children:\n",
    "            self.children[char] = TrieNode()\n",
    "        return self.children[char]\n",
    "        \n",
    "## The Trie itself containing the root node and insert/find functions\n",
    "class Trie:\n",
    "    def __init__(self):\n",
    "        ## Initialize this Trie (add a root node)\n",
    "        self.root = TrieNode()\n",
    "\n",
    "    def insert(self, word):\n",
    "        ## Add a word to the Trie\n",
    "        node = self.root\n",
    "\n",
    "        for char in word:\n",
    "            node = node.insert(char)\n",
    "\n",
    "        node.is_word = True\n",
    "\n",
    "    def find(self, prefix):\n",
    "        ## Find the Trie node that represents this prefix\n",
    "        node = self.root\n",
    "\n",
    "        for char in prefix:\n",
    "            if char not in node.children:\n",
    "                return False\n",
    "            node = node.children[char]\n",
    "\n",
    "        return node\n",
    "    \n",
    "\n",
    "        \n",
    "    \n",
    "word_list = ['apple', 'bear', 'goo', 'good', 'goodbye', 'goods', 'goodwill', 'gooses'  ,'zebra']\n",
    "trie = Trie()\n",
    "\n",
    "# Add words\n",
    "for word in word_list:\n",
    "    trie.insert(word)\n",
    "    \n",
    "print(trie.find(\"good\").is_word)\n",
    "list(trie.find(\"good\").children.keys())"
   ]
  },
  {
   "cell_type": "markdown",
   "metadata": {},
   "source": [
    "# Finding Suffixes\n",
    "\n",
    "Now that we have a functioning Trie, we need to add the ability to list suffixes to implement our autocomplete feature.  To do that, we need to implement a new function on the `TrieNode` object that will return all complete word suffixes that exist below it in the trie.  For example, if our Trie contains the words `[\"fun\", \"function\", \"factory\"]` and we ask for suffixes from the `f` node, we would expect to receive `[\"un\", \"unction\", \"actory\"]` back from `node.suffixes()`.\n",
    "\n",
    "Using the code you wrote for the `TrieNode` above, try to add the suffixes function below. (Hint: recurse down the trie, collecting suffixes as you go.)"
   ]
  },
  {
   "cell_type": "code",
   "execution_count": 35,
   "metadata": {},
   "outputs": [],
   "source": [
    "\n",
    "class TrieNode:\n",
    "    \"\"\"\n",
    "    A single node in the trie with children.\n",
    "    \"\"\"\n",
    "    \n",
    "    def __init__(self):\n",
    "        self.is_word = False\n",
    "        self.children = {}\n",
    "\n",
    "    def insert(self, char):\n",
    "        \"\"\"\n",
    "        Add a char to the children.\n",
    "        \"\"\"\n",
    "        if char not in self.children:\n",
    "            self.children[char] = TrieNode()\n",
    "        return self.children[char]\n",
    "    \n",
    "    def get_words(self, node, suffix=\"\", words=[]):\n",
    "        \"\"\"\n",
    "        Get the suffixes of the current node.\n",
    "        \"\"\"\n",
    "        child_nodes = node.children\n",
    "        \n",
    "        if len(child_nodes) == 0:\n",
    "            words.append(suffix)\n",
    "            return words\n",
    "        \n",
    "        for char in child_nodes:\n",
    "            new_suffix = suffix + char\n",
    "            node = child_nodes[char]\n",
    "            words = self.get_words(node, new_suffix, words)\n",
    "            \n",
    "        return words\n",
    "    \n",
    "    def suffixes(self):\n",
    "        \"\"\"\n",
    "        Search for all the suffixes starting in the current node.\n",
    "        \"\"\"\n",
    "        \n",
    "        complete_words = []\n",
    "        \n",
    "        node = self\n",
    "\n",
    "        for char in suffix:\n",
    "            child_nodes = node.children\n",
    "            if char not in child_nodes:\n",
    "                return\n",
    "                            \n",
    "            node = node.children[char]\n",
    "        \n",
    "        if node.is_word:\n",
    "            complete_words.append(suffix)\n",
    "        \n",
    "        complete_words = self.get_words(node, suffix, complete_words)\n",
    "        \n",
    "        return complete_words\n",
    "    \n",
    "        \n",
    "class Trie:\n",
    "    \"\"\"\n",
    "    Trie class with it's root node.\n",
    "    \"\"\"\n",
    "    def __init__(self):\n",
    "        self.root = TrieNode()\n",
    "\n",
    "    def insert(self, word):\n",
    "        \"\"\"\n",
    "        Add a new word to the trie.\n",
    "        \"\"\"\n",
    "        \n",
    "        node = self.root\n",
    "\n",
    "        for char in word:\n",
    "            node = node.insert(char)\n",
    "\n",
    "        node.is_word = True\n",
    "\n",
    "    def find(self, prefix):\n",
    "        \"\"\"\n",
    "        Locate the trie node corresponding to this prefix.\n",
    "        \"\"\"\n",
    "        node = self.root\n",
    "\n",
    "        for char in prefix:\n",
    "            if char not in node.children:\n",
    "                return False\n",
    "            node = node.children[char]\n",
    "\n",
    "        return node\n"
   ]
  },
  {
   "cell_type": "markdown",
   "metadata": {},
   "source": [
    " "
   ]
  },
  {
   "cell_type": "markdown",
   "metadata": {},
   "source": [
    " "
   ]
  },
  {
   "cell_type": "markdown",
   "metadata": {},
   "source": [
    " "
   ]
  },
  {
   "cell_type": "markdown",
   "metadata": {},
   "source": [
    " "
   ]
  },
  {
   "cell_type": "markdown",
   "metadata": {},
   "source": [
    "Tests"
   ]
  },
  {
   "cell_type": "code",
   "execution_count": 37,
   "metadata": {},
   "outputs": [
    {
     "name": "stdout",
     "output_type": "stream",
     "text": [
      "['b', 's', 'w']\n",
      "\n",
      "bye\n",
      "s\n",
      "will\n"
     ]
    }
   ],
   "source": [
    "word_list = [\n",
    "    'apple', \n",
    "    'bear', \n",
    "    'goo', \n",
    "    'good', \n",
    "    'goodbye', \n",
    "    'goods', \n",
    "    'goodwill', \n",
    "    'gooses', \n",
    "    'zebra'\n",
    "]\n",
    "trie = Trie()\n",
    "\n",
    "for word in word_list:\n",
    "    trie.insert(word)\n",
    "    \n",
    "\n",
    "node = trie.find(\"good\")\n",
    "print(list(node.children.keys()))\n",
    "if node:\n",
    "    words = node.suffixes()\n",
    "    print('\\n'.join(words))\n",
    "else:\n",
    "    print(prefix + \" not found\")"
   ]
  },
  {
   "cell_type": "markdown",
   "metadata": {},
   "source": [
    " "
   ]
  },
  {
   "cell_type": "markdown",
   "metadata": {},
   "source": [
    " "
   ]
  },
  {
   "cell_type": "markdown",
   "metadata": {},
   "source": [
    " "
   ]
  },
  {
   "cell_type": "markdown",
   "metadata": {},
   "source": [
    "# Testing it all out\n",
    "\n",
    "Run the following code to add some words to your trie and then use the interactive search box to see what your code returns."
   ]
  },
  {
   "cell_type": "code",
   "execution_count": 33,
   "metadata": {},
   "outputs": [],
   "source": [
    "MyTrie = Trie()\n",
    "wordList = [\n",
    "    \"ant\", \"anthology\", \"antagonist\", \"antonym\", \n",
    "    \"fun\", \"function\", \"factory\", \n",
    "    \"trie\", \"trigger\", \"trigonometry\", \"tripod\"\n",
    "]\n",
    "for word in wordList:\n",
    "    MyTrie.insert(word)"
   ]
  },
  {
   "cell_type": "code",
   "execution_count": 34,
   "metadata": {},
   "outputs": [
    {
     "data": {
      "application/vnd.jupyter.widget-view+json": {
       "model_id": "d20172ee475b432ca1fff0ed0e657d92",
       "version_major": 2,
       "version_minor": 0
      },
      "text/html": [
       "<p>Failed to display Jupyter Widget of type <code>interactive</code>.</p>\n",
       "<p>\n",
       "  If you're reading this message in the Jupyter Notebook or JupyterLab Notebook, it may mean\n",
       "  that the widgets JavaScript is still loading. If this message persists, it\n",
       "  likely means that the widgets JavaScript library is either not installed or\n",
       "  not enabled. See the <a href=\"https://ipywidgets.readthedocs.io/en/stable/user_install.html\">Jupyter\n",
       "  Widgets Documentation</a> for setup instructions.\n",
       "</p>\n",
       "<p>\n",
       "  If you're reading this message in another frontend (for example, a static\n",
       "  rendering on GitHub or <a href=\"https://nbviewer.jupyter.org/\">NBViewer</a>),\n",
       "  it may mean that your frontend doesn't currently support widgets.\n",
       "</p>\n"
      ],
      "text/plain": [
       "interactive(children=(Text(value='', description='prefix'), Output()), _dom_classes=('widget-interact',))"
      ]
     },
     "metadata": {},
     "output_type": "display_data"
    }
   ],
   "source": [
    "from ipywidgets import widgets\n",
    "from IPython.display import display\n",
    "from ipywidgets import interact\n",
    "def f(prefix):\n",
    "    if prefix != '':\n",
    "        prefixNode = MyTrie.find(prefix)\n",
    "        if prefixNode:\n",
    "            print('\\n'.join(prefixNode.suffixes()))\n",
    "        else:\n",
    "            print(prefix + \" not found\")\n",
    "    else:\n",
    "        print('')\n",
    "interact(f,prefix='');"
   ]
  },
  {
   "cell_type": "code",
   "execution_count": null,
   "metadata": {},
   "outputs": [],
   "source": []
  }
 ],
 "metadata": {
  "kernelspec": {
   "display_name": "Python 3 (ipykernel)",
   "language": "python",
   "name": "python3"
  },
  "language_info": {
   "codemirror_mode": {
    "name": "ipython",
    "version": 3
   },
   "file_extension": ".py",
   "mimetype": "text/x-python",
   "name": "python",
   "nbconvert_exporter": "python",
   "pygments_lexer": "ipython3",
   "version": "3.12.0"
  },
  "widgets": {
   "state": {},
   "version": "1.1.2"
  }
 },
 "nbformat": 4,
 "nbformat_minor": 4
}
